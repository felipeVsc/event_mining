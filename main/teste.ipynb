{
 "cells": [
  {
   "cell_type": "code",
   "execution_count": 1,
   "metadata": {},
   "outputs": [
    {
     "ename": "InvalidInputException",
     "evalue": "Invalid Input Error: 3 types provided, but the provided function takes 1 parameters",
     "output_type": "error",
     "traceback": [
      "\u001b[0;31m---------------------------------------------------------------------------\u001b[0m",
      "\u001b[0;31mInvalidInputException\u001b[0m                     Traceback (most recent call last)",
      "Cell \u001b[0;32mIn[1], line 27\u001b[0m\n\u001b[1;32m     24\u001b[0m     \u001b[38;5;28;01mreturn\u001b[39;00m pd\u001b[38;5;241m.\u001b[39mSeries(clusters, name\u001b[38;5;241m=\u001b[39m\u001b[38;5;124m'\u001b[39m\u001b[38;5;124mcluster\u001b[39m\u001b[38;5;124m'\u001b[39m)\n\u001b[1;32m     26\u001b[0m \u001b[38;5;66;03m# Step 4: Register the Python function as a UDF in DuckDB\u001b[39;00m\n\u001b[0;32m---> 27\u001b[0m \u001b[43mcon\u001b[49m\u001b[38;5;241;43m.\u001b[39;49m\u001b[43mcreate_function\u001b[49m\u001b[43m(\u001b[49m\u001b[38;5;124;43m'\u001b[39;49m\u001b[38;5;124;43mkmeans_cluster\u001b[39;49m\u001b[38;5;124;43m'\u001b[39;49m\u001b[43m,\u001b[49m\u001b[43m \u001b[49m\u001b[43mkmeans_cluster\u001b[49m\u001b[43m,\u001b[49m\u001b[43m \u001b[49m\u001b[43m[\u001b[49m\u001b[38;5;28;43mfloat\u001b[39;49m\u001b[43m,\u001b[49m\u001b[43m \u001b[49m\u001b[38;5;28;43mfloat\u001b[39;49m\u001b[43m,\u001b[49m\u001b[43m \u001b[49m\u001b[38;5;28;43mfloat\u001b[39;49m\u001b[43m]\u001b[49m\u001b[43m,\u001b[49m\u001b[43m \u001b[49m\u001b[38;5;28;43mint\u001b[39;49m\u001b[43m)\u001b[49m\n\u001b[1;32m     29\u001b[0m \u001b[38;5;66;03m# Step 5: Execute a SQL query using the UDF\u001b[39;00m\n\u001b[1;32m     30\u001b[0m result \u001b[38;5;241m=\u001b[39m con\u001b[38;5;241m.\u001b[39mexecute(\u001b[38;5;124m\"\"\"\u001b[39m\n\u001b[1;32m     31\u001b[0m \u001b[38;5;124m    SELECT kmeans_cluster(latitude, longitude, numberNegativeNews) AS cluster\u001b[39m\n\u001b[1;32m     32\u001b[0m \u001b[38;5;124m    FROM your_table\u001b[39m\n\u001b[1;32m     33\u001b[0m \u001b[38;5;124m\"\"\"\u001b[39m)\u001b[38;5;241m.\u001b[39mfetchall()\n",
      "\u001b[0;31mInvalidInputException\u001b[0m: Invalid Input Error: 3 types provided, but the provided function takes 1 parameters"
     ]
    }
   ],
   "source": [
    "import duckdb\n",
    "import pyarrow as pa\n",
    "import pandas as pd\n",
    "from sklearn.cluster import KMeans\n",
    "\n",
    "# Establish a connection to DuckDB (in-memory)\n",
    "con = duckdb.connect(database=':memory:')\n",
    "\n",
    "# Step 1: Install and load the PostgreSQL extension\n",
    "con.execute(\"INSTALL postgres;\")\n",
    "con.execute(\"LOAD postgres;\")\n",
    "\n",
    "# Step 2: Load data from PostgreSQL into DuckDB\n",
    "# Replace with your PostgreSQL connection details\n",
    "postgres_conn_str = \"host=localhost port=5432 dbname=postgres user=postgres password=password\"\n",
    "con.execute(f\"\"\"\n",
    "    ATTACH '{postgres_conn_str}' AS postgres_db (TYPE postgres);\n",
    "\"\"\")\n",
    "\n",
    "# Step 3: Define a Python function for KMeans clustering\n",
    "def kmeans_cluster(df: pd.DataFrame) -> pd.Series:\n",
    "    kmeans = KMeans(n_clusters=3)\n",
    "    clusters = kmeans.fit_predict(df[['latitude', 'longitude', 'numberNegativeNews']])\n",
    "    return pd.Series(clusters, name='cluster')\n",
    "\n",
    "# Step 4: Register the Python function as a UDF in DuckDB\n",
    "con.create_function('kmeans_cluster', kmeans_cluster, [float, float, float], int)\n",
    "\n",
    "# Step 5: Execute a SQL query using the UDF\n",
    "result = con.execute(\"\"\"\n",
    "    SELECT kmeans_cluster(latitude, longitude, numberNegativeNews) AS cluster\n",
    "    FROM your_table\n",
    "\"\"\").fetchall()\n",
    "\n",
    "# Step 6: Process the result\n",
    "print(result)\n"
   ]
  },
  {
   "cell_type": "code",
   "execution_count": null,
   "metadata": {},
   "outputs": [
    {
     "ename": "ExecuteError",
     "evalue": "Step 'Scan: orders (126918151059792)' failed: name 'KMEANS_CLUSTER' is not defined",
     "output_type": "error",
     "traceback": [
      "\u001b[0;31m---------------------------------------------------------------------------\u001b[0m",
      "\u001b[0;31mNameError\u001b[0m                                 Traceback (most recent call last)",
      "File \u001b[0;32m~/code/masters/event_mining/venv/lib/python3.12/site-packages/sqlglot/executor/python.py:38\u001b[0m, in \u001b[0;36mPythonExecutor.execute\u001b[0;34m(self, plan)\u001b[0m\n\u001b[1;32m     37\u001b[0m \u001b[38;5;28;01mif\u001b[39;00m \u001b[38;5;28misinstance\u001b[39m(node, planner\u001b[38;5;241m.\u001b[39mScan):\n\u001b[0;32m---> 38\u001b[0m     contexts[node] \u001b[38;5;241m=\u001b[39m \u001b[38;5;28;43mself\u001b[39;49m\u001b[38;5;241;43m.\u001b[39;49m\u001b[43mscan\u001b[49m\u001b[43m(\u001b[49m\u001b[43mnode\u001b[49m\u001b[43m,\u001b[49m\u001b[43m \u001b[49m\u001b[43mcontext\u001b[49m\u001b[43m)\u001b[49m\n\u001b[1;32m     39\u001b[0m \u001b[38;5;28;01melif\u001b[39;00m \u001b[38;5;28misinstance\u001b[39m(node, planner\u001b[38;5;241m.\u001b[39mAggregate):\n",
      "File \u001b[0;32m~/code/masters/event_mining/venv/lib/python3.12/site-packages/sqlglot/executor/python.py:106\u001b[0m, in \u001b[0;36mPythonExecutor.scan\u001b[0;34m(self, step, context)\u001b[0m\n\u001b[1;32m    104\u001b[0m     context, table_iter \u001b[38;5;241m=\u001b[39m \u001b[38;5;28mself\u001b[39m\u001b[38;5;241m.\u001b[39mscan_table(step)\n\u001b[0;32m--> 106\u001b[0m \u001b[38;5;28;01mreturn\u001b[39;00m \u001b[38;5;28mself\u001b[39m\u001b[38;5;241m.\u001b[39mcontext({step\u001b[38;5;241m.\u001b[39mname: \u001b[38;5;28;43mself\u001b[39;49m\u001b[38;5;241;43m.\u001b[39;49m\u001b[43m_project_and_filter\u001b[49m\u001b[43m(\u001b[49m\u001b[43mcontext\u001b[49m\u001b[43m,\u001b[49m\u001b[43m \u001b[49m\u001b[43mstep\u001b[49m\u001b[43m,\u001b[49m\u001b[43m \u001b[49m\u001b[43mtable_iter\u001b[49m\u001b[43m)\u001b[49m})\n",
      "File \u001b[0;32m~/code/masters/event_mining/venv/lib/python3.12/site-packages/sqlglot/executor/python.py:121\u001b[0m, in \u001b[0;36mPythonExecutor._project_and_filter\u001b[0;34m(self, context, step, table_iter)\u001b[0m\n\u001b[1;32m    120\u001b[0m \u001b[38;5;28;01mif\u001b[39;00m projections:\n\u001b[0;32m--> 121\u001b[0m     sink\u001b[38;5;241m.\u001b[39mappend(\u001b[43mcontext\u001b[49m\u001b[38;5;241;43m.\u001b[39;49m\u001b[43meval_tuple\u001b[49m\u001b[43m(\u001b[49m\u001b[43mprojections\u001b[49m\u001b[43m)\u001b[49m)\n\u001b[1;32m    122\u001b[0m \u001b[38;5;28;01melse\u001b[39;00m:\n",
      "File \u001b[0;32m~/code/masters/event_mining/venv/lib/python3.12/site-packages/sqlglot/executor/context.py:38\u001b[0m, in \u001b[0;36mContext.eval_tuple\u001b[0;34m(self, codes)\u001b[0m\n\u001b[1;32m     37\u001b[0m \u001b[38;5;28;01mdef\u001b[39;00m \u001b[38;5;21meval_tuple\u001b[39m(\u001b[38;5;28mself\u001b[39m, codes):\n\u001b[0;32m---> 38\u001b[0m     \u001b[38;5;28;01mreturn\u001b[39;00m \u001b[38;5;28;43mtuple\u001b[39;49m\u001b[43m(\u001b[49m\u001b[38;5;28;43mself\u001b[39;49m\u001b[38;5;241;43m.\u001b[39;49m\u001b[43meval\u001b[49m\u001b[43m(\u001b[49m\u001b[43mcode\u001b[49m\u001b[43m)\u001b[49m\u001b[43m \u001b[49m\u001b[38;5;28;43;01mfor\u001b[39;49;00m\u001b[43m \u001b[49m\u001b[43mcode\u001b[49m\u001b[43m \u001b[49m\u001b[38;5;129;43;01min\u001b[39;49;00m\u001b[43m \u001b[49m\u001b[43mcodes\u001b[49m\u001b[43m)\u001b[49m\n",
      "File \u001b[0;32m~/code/masters/event_mining/venv/lib/python3.12/site-packages/sqlglot/executor/context.py:38\u001b[0m, in \u001b[0;36m<genexpr>\u001b[0;34m(.0)\u001b[0m\n\u001b[1;32m     37\u001b[0m \u001b[38;5;28;01mdef\u001b[39;00m \u001b[38;5;21meval_tuple\u001b[39m(\u001b[38;5;28mself\u001b[39m, codes):\n\u001b[0;32m---> 38\u001b[0m     \u001b[38;5;28;01mreturn\u001b[39;00m \u001b[38;5;28mtuple\u001b[39m(\u001b[38;5;28;43mself\u001b[39;49m\u001b[38;5;241;43m.\u001b[39;49m\u001b[43meval\u001b[49m\u001b[43m(\u001b[49m\u001b[43mcode\u001b[49m\u001b[43m)\u001b[49m \u001b[38;5;28;01mfor\u001b[39;00m code \u001b[38;5;129;01min\u001b[39;00m codes)\n",
      "File \u001b[0;32m~/code/masters/event_mining/venv/lib/python3.12/site-packages/sqlglot/executor/context.py:35\u001b[0m, in \u001b[0;36mContext.eval\u001b[0;34m(self, code)\u001b[0m\n\u001b[1;32m     34\u001b[0m \u001b[38;5;28;01mdef\u001b[39;00m \u001b[38;5;21meval\u001b[39m(\u001b[38;5;28mself\u001b[39m, code):\n\u001b[0;32m---> 35\u001b[0m     \u001b[38;5;28;01mreturn\u001b[39;00m \u001b[38;5;28;43meval\u001b[39;49m\u001b[43m(\u001b[49m\u001b[43mcode\u001b[49m\u001b[43m,\u001b[49m\u001b[43m \u001b[49m\u001b[38;5;28;43mself\u001b[39;49m\u001b[38;5;241;43m.\u001b[39;49m\u001b[43menv\u001b[49m\u001b[43m)\u001b[49m\n",
      "File \u001b[0;32mKMEANS_CLUSTER(scope[\"orders\"][\"user_id\"], scope[\"orders\"][\"id\"]):1\u001b[0m\n",
      "\u001b[0;31mNameError\u001b[0m: name 'KMEANS_CLUSTER' is not defined",
      "\nThe above exception was the direct cause of the following exception:\n",
      "\u001b[0;31mExecuteError\u001b[0m                              Traceback (most recent call last)",
      "Cell \u001b[0;32mIn[15], line 37\u001b[0m\n\u001b[1;32m     30\u001b[0m env \u001b[38;5;241m=\u001b[39m {\n\u001b[1;32m     31\u001b[0m     \u001b[38;5;124m'\u001b[39m\u001b[38;5;124mKMEANS_CLUSTER\u001b[39m\u001b[38;5;124m'\u001b[39m: kmeans_cluster  \u001b[38;5;66;03m# Register your function\u001b[39;00m\n\u001b[1;32m     32\u001b[0m }\n\u001b[1;32m     34\u001b[0m executor \u001b[38;5;241m=\u001b[39m PythonExecutor(env\u001b[38;5;241m=\u001b[39menv)\n\u001b[0;32m---> 37\u001b[0m \u001b[43mexecute\u001b[49m\u001b[43m(\u001b[49m\n\u001b[1;32m     38\u001b[0m \u001b[38;5;250;43m    \u001b[39;49m\u001b[38;5;124;43;03m\"\"\"\u001b[39;49;00m\n\u001b[1;32m     39\u001b[0m \u001b[38;5;124;43;03m    SELECT\u001b[39;49;00m\n\u001b[1;32m     40\u001b[0m \u001b[38;5;124;43;03m    KMEANS_CLUSTER(user_id, id) from orders\u001b[39;49;00m\n\u001b[1;32m     41\u001b[0m \u001b[38;5;124;43;03m    \"\"\"\u001b[39;49;00m\u001b[43m,\u001b[49m\u001b[43mtables\u001b[49m\u001b[38;5;241;43m=\u001b[39;49m\u001b[43m{\u001b[49m\u001b[38;5;124;43m'\u001b[39;49m\u001b[38;5;124;43mmy_table\u001b[39;49m\u001b[38;5;124;43m'\u001b[39;49m\u001b[43m:\u001b[49m\u001b[43m \u001b[49m\u001b[43mtables\u001b[49m\u001b[43m}\u001b[49m\u001b[43m)\u001b[49m\n",
      "File \u001b[0;32m~/code/masters/event_mining/venv/lib/python3.12/site-packages/sqlglot/executor/__init__.py:89\u001b[0m, in \u001b[0;36mexecute\u001b[0;34m(sql, schema, read, dialect, tables)\u001b[0m\n\u001b[1;32m     86\u001b[0m logger\u001b[38;5;241m.\u001b[39mdebug(\u001b[38;5;124m\"\u001b[39m\u001b[38;5;124mLogical Plan: \u001b[39m\u001b[38;5;132;01m%s\u001b[39;00m\u001b[38;5;124m\"\u001b[39m, plan)\n\u001b[1;32m     88\u001b[0m now \u001b[38;5;241m=\u001b[39m time\u001b[38;5;241m.\u001b[39mtime()\n\u001b[0;32m---> 89\u001b[0m result \u001b[38;5;241m=\u001b[39m \u001b[43mPythonExecutor\u001b[49m\u001b[43m(\u001b[49m\u001b[43mtables\u001b[49m\u001b[38;5;241;43m=\u001b[39;49m\u001b[43mtables_\u001b[49m\u001b[43m)\u001b[49m\u001b[38;5;241;43m.\u001b[39;49m\u001b[43mexecute\u001b[49m\u001b[43m(\u001b[49m\u001b[43mplan\u001b[49m\u001b[43m)\u001b[49m\n\u001b[1;32m     91\u001b[0m logger\u001b[38;5;241m.\u001b[39mdebug(\u001b[38;5;124m\"\u001b[39m\u001b[38;5;124mQuery finished: \u001b[39m\u001b[38;5;132;01m%f\u001b[39;00m\u001b[38;5;124m\"\u001b[39m, time\u001b[38;5;241m.\u001b[39mtime() \u001b[38;5;241m-\u001b[39m now)\n\u001b[1;32m     93\u001b[0m \u001b[38;5;28;01mreturn\u001b[39;00m result\n",
      "File \u001b[0;32m~/code/masters/event_mining/venv/lib/python3.12/site-packages/sqlglot/executor/python.py:60\u001b[0m, in \u001b[0;36mPythonExecutor.execute\u001b[0;34m(self, plan)\u001b[0m\n\u001b[1;32m     58\u001b[0m                 contexts\u001b[38;5;241m.\u001b[39mpop(dep)\n\u001b[1;32m     59\u001b[0m     \u001b[38;5;28;01mexcept\u001b[39;00m \u001b[38;5;167;01mException\u001b[39;00m \u001b[38;5;28;01mas\u001b[39;00m e:\n\u001b[0;32m---> 60\u001b[0m         \u001b[38;5;28;01mraise\u001b[39;00m ExecuteError(\u001b[38;5;124mf\u001b[39m\u001b[38;5;124m\"\u001b[39m\u001b[38;5;124mStep \u001b[39m\u001b[38;5;124m'\u001b[39m\u001b[38;5;132;01m{\u001b[39;00mnode\u001b[38;5;241m.\u001b[39mid\u001b[38;5;132;01m}\u001b[39;00m\u001b[38;5;124m'\u001b[39m\u001b[38;5;124m failed: \u001b[39m\u001b[38;5;132;01m{\u001b[39;00me\u001b[38;5;132;01m}\u001b[39;00m\u001b[38;5;124m\"\u001b[39m) \u001b[38;5;28;01mfrom\u001b[39;00m \u001b[38;5;21;01me\u001b[39;00m\n\u001b[1;32m     62\u001b[0m root \u001b[38;5;241m=\u001b[39m plan\u001b[38;5;241m.\u001b[39mroot\n\u001b[1;32m     63\u001b[0m \u001b[38;5;28;01mreturn\u001b[39;00m contexts[root]\u001b[38;5;241m.\u001b[39mtables[root\u001b[38;5;241m.\u001b[39mname]\n",
      "\u001b[0;31mExecuteError\u001b[0m: Step 'Scan: orders (126918151059792)' failed: name 'KMEANS_CLUSTER' is not defined"
     ]
    }
   ],
   "source": [
    "from sqlglot.executor import execute\n",
    "from sqlglot.executor import PythonExecutor\n",
    "\n",
    "\n",
    "tables = {\n",
    "    \"sushi\": [\n",
    "        {\"id\": 1, \"price\": 1.0},\n",
    "        {\"id\": 2, \"price\": 2.0},\n",
    "        {\"id\": 3, \"price\": 3.0},\n",
    "    ],\n",
    "    \"order_items\": [\n",
    "        {\"sushi_id\": 1, \"order_id\": 1},\n",
    "        {\"sushi_id\": 1, \"order_id\": 1},\n",
    "        {\"sushi_id\": 2, \"order_id\": 1},\n",
    "        {\"sushi_id\": 3, \"order_id\": 2},\n",
    "    ],\n",
    "    \"orders\": [\n",
    "        {\"id\": 1, \"user_id\": 1},\n",
    "        {\"id\": 2, \"user_id\": 2},\n",
    "    ],\n",
    "}\n",
    "\n",
    "def kmeans_cluster(latitudes, longitudes, n_clusters=2):\n",
    "    import numpy as np\n",
    "    X = np.column_stack((latitudes, longitudes))\n",
    "    model = KMeans(n_clusters=n_clusters, random_state=42)\n",
    "    return model.fit_predict(X)\n",
    "\n",
    "# Step 3: Set up the execution environment\n",
    "env = {\n",
    "    'KMEANS_CLUSTER': kmeans_cluster  # Register your function\n",
    "}\n",
    "\n",
    "\n",
    "\n",
    "execute(\n",
    "    \"\"\"\n",
    "    SELECT\n",
    "    KMEANS_CLUSTER(user_id, id) from orders\n",
    "    \"\"\",tables={'my_table': tables})"
   ]
  },
  {
   "cell_type": "code",
   "execution_count": 8,
   "metadata": {},
   "outputs": [
    {
     "ename": "AttributeError",
     "evalue": "'str' object has no attribute 'leaves'",
     "output_type": "error",
     "traceback": [
      "\u001b[0;31m---------------------------------------------------------------------------\u001b[0m",
      "\u001b[0;31mAttributeError\u001b[0m                            Traceback (most recent call last)",
      "Cell \u001b[0;32mIn[8], line 27\u001b[0m\n\u001b[1;32m     21\u001b[0m env \u001b[38;5;241m=\u001b[39m {\n\u001b[1;32m     22\u001b[0m     \u001b[38;5;124m'\u001b[39m\u001b[38;5;124mKMEANS_CLUSTER\u001b[39m\u001b[38;5;124m'\u001b[39m: kmeans_cluster  \u001b[38;5;66;03m# Register your function\u001b[39;00m\n\u001b[1;32m     23\u001b[0m }\n\u001b[1;32m     25\u001b[0m executor \u001b[38;5;241m=\u001b[39m PythonExecutor(env\u001b[38;5;241m=\u001b[39menv, tables\u001b[38;5;241m=\u001b[39m{\u001b[38;5;124m'\u001b[39m\u001b[38;5;124mmy_table\u001b[39m\u001b[38;5;124m'\u001b[39m: data})\n\u001b[0;32m---> 27\u001b[0m \u001b[43mexecutor\u001b[49m\u001b[38;5;241;43m.\u001b[39;49m\u001b[43mexecute\u001b[49m\u001b[43m(\u001b[49m\u001b[38;5;124;43m\"\u001b[39;49m\u001b[38;5;124;43mSELECT * from my_table\u001b[39;49m\u001b[38;5;124;43m\"\u001b[39;49m\u001b[43m)\u001b[49m\n",
      "File \u001b[0;32m~/code/masters/event_mining/venv/lib/python3.12/site-packages/sqlglot/executor/python.py:23\u001b[0m, in \u001b[0;36mPythonExecutor.execute\u001b[0;34m(self, plan)\u001b[0m\n\u001b[1;32m     21\u001b[0m \u001b[38;5;28;01mdef\u001b[39;00m \u001b[38;5;21mexecute\u001b[39m(\u001b[38;5;28mself\u001b[39m, plan):\n\u001b[1;32m     22\u001b[0m     finished \u001b[38;5;241m=\u001b[39m \u001b[38;5;28mset\u001b[39m()\n\u001b[0;32m---> 23\u001b[0m     queue \u001b[38;5;241m=\u001b[39m \u001b[38;5;28mset\u001b[39m(\u001b[43mplan\u001b[49m\u001b[38;5;241;43m.\u001b[39;49m\u001b[43mleaves\u001b[49m)\n\u001b[1;32m     24\u001b[0m     contexts \u001b[38;5;241m=\u001b[39m {}\n\u001b[1;32m     26\u001b[0m     \u001b[38;5;28;01mwhile\u001b[39;00m queue:\n",
      "\u001b[0;31mAttributeError\u001b[0m: 'str' object has no attribute 'leaves'"
     ]
    }
   ],
   "source": [
    "import pandas as pd\n",
    "from sklearn.cluster import KMeans\n",
    "from sqlglot import parse_one\n",
    "from sqlglot.executor import PythonExecutor\n",
    "\n",
    "# Step 1: Prepare your data\n",
    "data = pd.DataFrame({\n",
    "    'latitude': [40.7128, 34.0522, 41.8781],\n",
    "    'longitude': [-74.0060, -118.2437, -87.6298],\n",
    "    'numberNegativeNews': [5, 3, 4]\n",
    "})\n",
    "\n",
    "# Step 2: Define your custom KMeans function\n",
    "def kmeans_cluster(latitudes, longitudes, negatives, n_clusters=2):\n",
    "    import numpy as np\n",
    "    X = np.column_stack((latitudes, longitudes, negatives))\n",
    "    model = KMeans(n_clusters=n_clusters, random_state=42)\n",
    "    return model.fit_predict(X)\n",
    "\n",
    "# Step 3: Set up the execution environment\n",
    "env = {\n",
    "    'KMEANS_CLUSTER': kmeans_cluster  # Register your function\n",
    "}\n",
    "\n",
    "executor = PythonExecutor(env=env, tables={'my_table': data})\n",
    "\n",
    "executor.execute(\"SELECT * from my_table\")\n"
   ]
  }
 ],
 "metadata": {
  "kernelspec": {
   "display_name": "venv",
   "language": "python",
   "name": "python3"
  },
  "language_info": {
   "codemirror_mode": {
    "name": "ipython",
    "version": 3
   },
   "file_extension": ".py",
   "mimetype": "text/x-python",
   "name": "python",
   "nbconvert_exporter": "python",
   "pygments_lexer": "ipython3",
   "version": "3.12.3"
  }
 },
 "nbformat": 4,
 "nbformat_minor": 2
}
