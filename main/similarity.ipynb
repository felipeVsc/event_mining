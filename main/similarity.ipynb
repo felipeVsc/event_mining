{
 "cells": [
  {
   "cell_type": "markdown",
   "metadata": {},
   "source": [
    "### This notebook is a basis for creating similarity functions\n",
    "\n",
    "* kNN and range\n",
    "* text, time and spatial\n",
    "\n",
    "TODO:\n",
    "\n",
    "[ ] connect with text embeddings"
   ]
  },
  {
   "cell_type": "markdown",
   "metadata": {},
   "source": [
    "### Text\n",
    "\n",
    "* Levenhstein Similarity\n",
    "* text embedding??"
   ]
  },
  {
   "cell_type": "code",
   "execution_count": null,
   "metadata": {},
   "outputs": [],
   "source": []
  },
  {
   "cell_type": "code",
   "execution_count": null,
   "metadata": {},
   "outputs": [
    {
     "data": {
      "text/plain": [
       "2"
      ]
     },
     "execution_count": 5,
     "metadata": {},
     "output_type": "execute_result"
    }
   ],
   "source": [
    "# Levenhestein similarity\n",
    "\n",
    "from distance import DistanceFunctions\n",
    "\n",
    "dist = DistanceFunctions()\n",
    "\n",
    "a = \"Oi meu nome é Felipe\"\n",
    "b = \"Olá meu nome é Felipe\"\n",
    "\n",
    "dist.levenshtein(a,b)\n",
    "\n",
    "def textRange(radius, center, attrib):\n",
    "    # Radius - raio de busca\n",
    "    # Centro de consulta \n",
    "    # Atrib os atributos que serão analisados\n",
    "\n",
    "    # Entao eu tenho que comparar os atribs com o centro de consulta e ver se a diferença é menor que radius\n",
    "    # Centro de consulta eu acho que vai ser apenas 1 valor (o de referência por ex \"Obama\" e ele vai ter que comparar todos os attribs com Obama e ver quais são os mais similares (dentro de range))\n",
    "    # Tenho que ver como que isso efetivamente vai ser passado para  o duckdb\n",
    "\n",
    "    result = {}\n",
    "\n",
    "    for value in attrib:\n",
    "        distance_value = dist.levenshtein(center, value)\n",
    "        if distance_value < radius:\n",
    "            result[value] = distance_value\n",
    "\n",
    "    return result\n",
    "\n",
    "# Tentar unificar o KNN e o radius? listar todos e depois só aplicar um filtro depois?\n",
    "\n",
    "def generateDistanceValues(dist_func, center,attrib):\n",
    "    result = {}\n",
    "\n",
    "    for value in attrib:\n",
    "        distance_value = dist_funcs[dist_func](center, value)\n",
    "        result[value] = distance_value\n",
    "\n",
    "    return result\n",
    "    \n",
    "\n",
    "\n",
    "def textRangeEmbedding(radius, center, attrib):\n",
    "    from helpers import Helpers\n",
    "    hp = Helpers()\n",
    "    result = {}\n",
    "    centerEmbedding =  hp.generate_text_embedding(center)\n",
    "    for value in attrib:\n",
    "        attribEmbedding = hp.generate_text_embedding(value)\n",
    "        distance_v = dist.cosine(centerEmbedding,attribEmbedding)\n",
    "        if distance_v < radius:\n",
    "            result[value] = distance_v\n",
    "    \n",
    "    return result \n",
    "\n",
    "def textKnn(k, center, attrib):\n",
    "    # using levenhstein \n",
    "    from itertools import islice\n",
    "    distances = generateDistanceValues(center, attrib)\n",
    "\n",
    "    sorted_by_values = dict(sorted(distances.items(), key=lambda item: item[1]))\n",
    "    \n",
    "    res = dict(islice(sorted_by_values.items(), k))\n",
    "\n",
    "    return res\n",
    "\n",
    "\n",
    "\n",
    "\n",
    "\n",
    "\n",
    "        \n"
   ]
  },
  {
   "cell_type": "markdown",
   "metadata": {},
   "source": [
    "### Spatial"
   ]
  },
  {
   "cell_type": "code",
   "execution_count": null,
   "metadata": {},
   "outputs": [],
   "source": [
    "# Aqui existem duas condições que tem que ser tratadas: virão duas colunas (lat long) ou um GEOMETRY numa vibe de POINT(X,Y)?? vou implementar primeiro para lat long\n",
    "\n",
    "dist_funcs = {'cosine': dist.cosine, 'manhattan': dist.manhattan}\n",
    "\n",
    "def rangeSpatial(dist_func, radius, center, attrib):\n",
    "    # center = [lat,long]\n",
    "    # cosine expects arraylike ([1,0])\n",
    "    result = {}\n",
    "    for value in attrib:\n",
    "        \n",
    "        distance_value = dist_func[dist_func](center, value)\n",
    "        if distance_value < radius:\n",
    "            result[value] = distance_value\n",
    "\n",
    "    return result\n",
    "\n",
    "\n",
    "def textKnn(k, center, attrib):\n",
    "# using levenhstein \n",
    "    from itertools import islice\n",
    "    distances = generateDistanceValues(center, attrib)\n",
    "\n",
    "    sorted_by_values = dict(sorted(distances.items(), key=lambda item: item[1]))\n",
    "\n",
    "    res = dict(islice(sorted_by_values.items(), k))\n",
    "\n",
    "    return res\n"
   ]
  },
  {
   "cell_type": "code",
   "execution_count": 4,
   "metadata": {},
   "outputs": [
    {
     "data": {
      "text/plain": [
       "{'oi': 1, 'ola': 2}"
      ]
     },
     "execution_count": 4,
     "metadata": {},
     "output_type": "execute_result"
    }
   ],
   "source": [
    "from itertools import islice\n",
    "\n",
    "\n",
    "a = {\"oi\": 1, \"ola\": 2, \"teste\":3}\n",
    "dict(islice(a.items(), 2))"
   ]
  },
  {
   "cell_type": "code",
   "execution_count": 1,
   "metadata": {},
   "outputs": [
    {
     "name": "stderr",
     "output_type": "stream",
     "text": [
      "/home/felipe/code/masters/event_mining/venv/lib/python3.12/site-packages/tqdm/auto.py:21: TqdmWarning: IProgress not found. Please update jupyter and ipywidgets. See https://ipywidgets.readthedocs.io/en/stable/user_install.html\n",
      "  from .autonotebook import tqdm as notebook_tqdm\n"
     ]
    },
    {
     "data": {
      "text/plain": [
       "array([-1.01909402e-03,  1.70394294e-02,  1.35793351e-02,  3.79069075e-02,\n",
       "       -8.96175485e-03, -5.43497615e-02,  8.76838118e-02, -7.46182119e-03,\n",
       "        1.67198581e-04,  3.86281908e-02,  9.85933319e-02, -7.41687268e-02,\n",
       "       -1.06249461e-02, -5.68497963e-02, -3.70325930e-02,  5.92752136e-02,\n",
       "        3.50555964e-02,  2.67829001e-02,  2.01638658e-02, -1.35903629e-02,\n",
       "       -2.22017094e-02,  1.54389283e-02, -5.62032536e-02,  4.62312251e-02,\n",
       "       -9.39656273e-02,  7.63067044e-03,  7.06487820e-02,  9.40650031e-02,\n",
       "       -4.56630811e-02, -5.26379272e-02,  7.34758284e-03,  1.10937424e-01,\n",
       "        9.22243223e-02, -2.25412287e-03, -4.47340980e-02,  1.83171406e-02,\n",
       "        5.39033720e-03, -1.50998220e-01,  3.58006172e-03,  4.17790608e-03,\n",
       "       -3.72277312e-02, -2.82168183e-02, -4.60992847e-03, -6.16542101e-02,\n",
       "        7.09369332e-02,  5.60277281e-03,  2.24290807e-02,  2.78741843e-03,\n",
       "        3.01186610e-02, -4.25598621e-02, -7.68444911e-02,  2.04086564e-02,\n",
       "       -7.64162689e-02,  4.52719182e-02,  2.68524303e-03,  7.17379386e-03,\n",
       "        4.14990857e-02, -1.37068247e-02, -5.07304221e-02, -9.58599523e-03,\n",
       "        3.80292116e-03, -1.89993754e-02, -6.82164952e-02,  1.28432177e-02,\n",
       "        2.20088027e-02,  2.04218249e-03,  7.20051527e-02,  3.85888964e-02,\n",
       "       -8.71343091e-02,  7.64813572e-02,  8.99036303e-02, -1.97180621e-02,\n",
       "        4.12573218e-02,  2.65279263e-02, -5.78195006e-02,  3.45439352e-02,\n",
       "        5.28998449e-02,  1.46276550e-02,  2.10518502e-02, -1.10860297e-03,\n",
       "       -1.58896334e-02, -3.79403383e-02,  8.30056146e-03, -1.21685758e-01,\n",
       "       -4.65485966e-03,  2.24767178e-02,  1.26042152e-02,  5.77894133e-03,\n",
       "        1.97028220e-02,  3.17185968e-02, -1.87403578e-02,  6.93311989e-02,\n",
       "       -7.05962926e-02, -6.41255155e-02,  4.88921590e-02, -7.15271533e-02,\n",
       "        5.86026162e-02, -4.10045264e-03, -3.16501744e-02,  9.42650139e-02,\n",
       "       -5.48028201e-03,  4.32272367e-02,  7.67309815e-02,  2.71796831e-03,\n",
       "       -1.45387342e-02,  3.52885611e-02,  8.31825659e-02,  5.58855943e-03,\n",
       "        7.49550834e-02,  6.91225156e-02, -1.44325765e-02, -1.41467959e-01,\n",
       "        2.76878625e-02, -4.31716107e-02,  2.23442819e-03,  2.69105341e-02,\n",
       "       -5.16980560e-03, -6.09516650e-02, -3.62311378e-02, -2.60040611e-02,\n",
       "        2.07493044e-02, -6.32656813e-02, -6.03815317e-02,  3.75115238e-02,\n",
       "       -3.73365870e-03, -6.99782670e-02,  1.87310204e-02,  3.05408328e-33,\n",
       "        1.30578158e-02, -2.06739176e-02, -3.78838219e-02,  3.16041708e-02,\n",
       "        5.34269959e-02,  4.75650504e-02, -2.21369024e-02,  7.62929628e-03,\n",
       "       -6.94131777e-02, -6.02507293e-02, -4.82824147e-02,  2.72173211e-02,\n",
       "       -9.53875016e-03,  2.67543904e-02,  1.07893527e-01,  1.49845192e-02,\n",
       "       -2.92940456e-02,  2.78176870e-02,  4.72208895e-02, -1.77752357e-02,\n",
       "       -6.42132610e-02, -1.94568057e-02, -1.86673235e-02, -3.96043062e-02,\n",
       "        2.18629949e-02,  4.74533476e-02, -4.30274829e-02, -9.47845429e-02,\n",
       "       -3.05583645e-02,  9.98441409e-03,  1.10346302e-01,  1.71905383e-02,\n",
       "        2.08650343e-02, -3.98158059e-02, -5.00427186e-02, -7.75106549e-02,\n",
       "       -2.66506281e-02, -1.88374054e-02, -2.76933387e-02, -5.63301668e-02,\n",
       "        1.19720204e-02,  4.12143990e-02,  5.92387617e-02, -2.14893837e-02,\n",
       "       -8.74011964e-02,  2.95315143e-02,  1.27113098e-02, -6.01783246e-02,\n",
       "        4.87772003e-02, -2.51743924e-02, -2.69188788e-02, -6.40667230e-03,\n",
       "       -5.29818758e-02,  3.10062570e-03,  6.53963238e-02, -3.44390795e-02,\n",
       "       -3.33596915e-02,  5.19518368e-02,  3.81105617e-02, -5.81294633e-02,\n",
       "        1.51047697e-02,  2.03635953e-02,  3.61472592e-02,  6.01783991e-02,\n",
       "       -3.88965458e-02, -3.52926143e-02,  1.63532160e-02,  3.08388062e-02,\n",
       "        1.21493012e-01,  1.95202250e-02, -6.35550246e-02,  1.90779623e-02,\n",
       "       -2.85189133e-02,  1.09802571e-03, -7.60090798e-02, -7.85028376e-03,\n",
       "        7.88177997e-02, -1.75566450e-02, -1.41168907e-02,  2.89875828e-02,\n",
       "        3.47305760e-02,  2.84870341e-02,  4.39261645e-02, -1.28094219e-02,\n",
       "        9.03713256e-02,  9.75778177e-02,  3.97752412e-02,  1.42451730e-02,\n",
       "        2.01535225e-02,  1.11925259e-01, -1.55533431e-02,  1.04006622e-02,\n",
       "        6.81212842e-02, -5.22970930e-02,  9.89989750e-03, -2.00638849e-33,\n",
       "       -1.73685160e-02, -3.86836715e-02, -3.33161578e-02,  3.72345857e-02,\n",
       "       -3.62443700e-02,  2.97316490e-03, -3.09858788e-02,  8.87803510e-02,\n",
       "        2.21814159e-02, -5.10029234e-02,  3.84232551e-02, -8.98409709e-02,\n",
       "        1.59192815e-01,  4.79660146e-02,  6.66008890e-02,  2.54155491e-02,\n",
       "        4.53357883e-02, -8.63392744e-03, -6.96758404e-02, -3.51817459e-02,\n",
       "       -5.30853402e-03,  1.98276080e-02,  2.01326218e-02, -2.52013244e-02,\n",
       "       -5.15880398e-02,  4.89388406e-02,  4.73585539e-03, -4.93010618e-02,\n",
       "       -7.47250617e-02,  2.59115882e-02,  5.13851903e-02, -3.15137915e-02,\n",
       "       -9.07851085e-02,  7.00720176e-02, -1.21715767e-02,  8.14881995e-02,\n",
       "        3.30740958e-02,  2.70385426e-02, -2.76893564e-02,  1.12516955e-01,\n",
       "       -6.27879798e-03,  2.51285136e-02, -2.36890838e-02,  1.21045830e-02,\n",
       "       -1.10777639e-01, -4.94273566e-02, -2.92124171e-02,  3.57957371e-02,\n",
       "       -4.31083925e-02, -6.60822541e-02,  1.24015519e-03, -1.55212246e-02,\n",
       "       -7.07603171e-02, -8.84614140e-02,  3.26513201e-02, -9.07075126e-03,\n",
       "       -1.95409060e-02, -1.21772945e-01, -1.67101443e-01, -1.85195915e-02,\n",
       "        3.62070948e-02, -7.87490234e-03, -5.64004630e-02, -4.33200747e-02,\n",
       "       -2.44720466e-02,  7.76352510e-02, -1.47105539e-02,  3.17483060e-02,\n",
       "       -3.38014327e-02, -1.28472904e-02,  6.88488558e-02, -8.35519210e-02,\n",
       "       -1.16269328e-01,  8.44696835e-02, -2.58674007e-02, -3.34804468e-02,\n",
       "       -8.77067372e-02,  8.27313736e-02,  1.44003732e-02, -8.86909850e-03,\n",
       "        2.09912937e-02, -1.24827266e-01, -6.02681488e-02,  1.39199346e-01,\n",
       "       -6.84947008e-03,  3.33287637e-03,  3.69137079e-02, -1.23640196e-03,\n",
       "        2.96943989e-02,  2.17846083e-03,  2.44638566e-02,  4.50323299e-02,\n",
       "       -2.69043185e-02,  4.31055687e-02, -1.19717456e-02, -1.90749496e-08,\n",
       "       -7.50382477e-03, -1.45265505e-01,  4.80386093e-02, -9.88822710e-03,\n",
       "        3.85928713e-03,  9.54090804e-03,  5.99495955e-02, -6.30706698e-02,\n",
       "       -3.83670442e-02,  3.21572497e-02,  7.61903971e-02, -1.16127972e-02,\n",
       "       -3.88328061e-02,  4.20532078e-02,  1.98807400e-02,  4.78902869e-02,\n",
       "       -3.00698355e-02,  5.80893047e-02, -2.23844987e-03, -5.67188151e-02,\n",
       "        2.92966757e-02, -1.92741733e-02,  1.39246481e-02, -2.04887595e-02,\n",
       "       -2.23233271e-02,  6.20847940e-02, -2.29560048e-03,  3.33016440e-02,\n",
       "       -1.93202272e-02, -1.89841399e-03,  1.50828790e-02, -1.37018654e-02,\n",
       "       -6.38241246e-02,  2.77739558e-02, -9.44253616e-03,  8.16914067e-03,\n",
       "        4.98633832e-02,  4.26201783e-02, -4.96082455e-02,  1.60362925e-02,\n",
       "        6.04714230e-02, -7.70329614e-04,  1.77855380e-02,  3.01921666e-02,\n",
       "        8.77066923e-05,  5.96633181e-02,  3.24895531e-02, -7.11833090e-02,\n",
       "        2.01263838e-02, -9.16447043e-02, -1.20163813e-01,  3.99390655e-03,\n",
       "        1.02508940e-01,  9.10398662e-02,  2.18447391e-02, -3.32089216e-02,\n",
       "        3.90701368e-02,  5.71153611e-02, -3.77902985e-02,  4.00938131e-02,\n",
       "        6.82731569e-02,  6.20312653e-02, -1.35773886e-03, -4.48703170e-02],\n",
       "      dtype=float32)"
      ]
     },
     "execution_count": 1,
     "metadata": {},
     "output_type": "execute_result"
    }
   ],
   "source": [
    "from helpers import Helpers\n",
    "\n",
    "hp = Helpers()\n",
    "\n",
    "hp.generate_text_embedding(\"oi tudo bem\")"
   ]
  },
  {
   "cell_type": "markdown",
   "metadata": {},
   "source": [
    "### Time\n"
   ]
  },
  {
   "cell_type": "code",
   "execution_count": null,
   "metadata": {},
   "outputs": [],
   "source": [
    "# Range"
   ]
  }
 ],
 "metadata": {
  "kernelspec": {
   "display_name": "venv",
   "language": "python",
   "name": "python3"
  },
  "language_info": {
   "codemirror_mode": {
    "name": "ipython",
    "version": 3
   },
   "file_extension": ".py",
   "mimetype": "text/x-python",
   "name": "python",
   "nbconvert_exporter": "python",
   "pygments_lexer": "ipython3",
   "version": "3.12.3"
  }
 },
 "nbformat": 4,
 "nbformat_minor": 2
}
