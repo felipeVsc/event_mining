{
 "cells": [
  {
   "cell_type": "markdown",
   "metadata": {},
   "source": [
    "### This notebook is a basis for creating similarity functions\n",
    "\n",
    "* kNN and range\n",
    "* text, time and spatial\n",
    "\n",
    "TODO:\n",
    "\n",
    "[ ] connect with text embeddings"
   ]
  },
  {
   "cell_type": "markdown",
   "metadata": {},
   "source": [
    "### Text\n",
    "\n",
    "* Levenhstein Similarity\n",
    "* text embedding??"
   ]
  },
  {
   "cell_type": "code",
   "execution_count": null,
   "metadata": {},
   "outputs": [],
   "source": []
  },
  {
   "cell_type": "code",
   "execution_count": null,
   "metadata": {},
   "outputs": [],
   "source": [
    "# Levenhestein similarity\n",
    "\n",
    "from distance import DistanceFunctions\n",
    "\n",
    "dist = DistanceFunctions()\n",
    "\n",
    "dist_funcs = {\n",
    "    \"levenshtein\":dist.levenshtein, \n",
    "    \"cosine\":dist.cosineText,\n",
    "}\n",
    "\n",
    "def generateDistanceValues(func, center,attrib):\n",
    "    result = {}\n",
    "\n",
    "    for value in attrib:\n",
    "        print(value)\n",
    "        distance_value = dist_funcs[func](center, value)\n",
    "        result[value] = distance_value\n",
    "\n",
    "    return result\n",
    "\n",
    "from itertools import islice\n",
    "\n",
    "def textKnn(func, k, center, attrib):\n",
    "    distances = generateDistanceValues(func, center, attrib)\n",
    "    sorted_by_values = dict(sorted(distances.items(), key=lambda item: item[1]))\n",
    "    print(sorted_by_values)\n",
    "    res = dict(islice(sorted_by_values.items(), k))\n",
    "\n",
    "    return res\n",
    "\n",
    "\n",
    "def textRange(func, radius, center, attrib):\n",
    "    distances = generateDistanceValues(func, center, attrib)\n",
    "    sorted_by_values = dict(sorted(distances.items(), key=lambda item: item[1]))\n",
    "    print(sorted_by_values['felipe é uma pessoa'])\n",
    "    res = {val:sorted_by_values[val] for val in sorted_by_values if sorted_by_values[val] < radius}\n",
    "    return res\n",
    "\n",
    "\n",
    "    "
   ]
  },
  {
   "cell_type": "code",
   "execution_count": 12,
   "metadata": {},
   "outputs": [
    {
     "name": "stdout",
     "output_type": "stream",
     "text": [
      "meu nome é felipe\n",
      "a vida é bela\n",
      "as coisas estão bem\n",
      "felipe é uma pessoa\n",
      "0.29116702\n"
     ]
    },
    {
     "data": {
      "text/plain": [
       "{'felipe é uma pessoa': np.float32(0.29116702),\n",
       " 'meu nome é felipe': np.float32(0.2940777),\n",
       " 'a vida é bela': np.float32(0.70271826),\n",
       " 'as coisas estão bem': np.float32(0.74493027)}"
      ]
     },
     "execution_count": 12,
     "metadata": {},
     "output_type": "execute_result"
    }
   ],
   "source": [
    "# Testing text range and knn functions\n",
    "\n",
    "attrib = [\"meu nome é felipe\", \"a vida é bela\", \"as coisas estão bem\", \"felipe é uma pessoa\"]\n",
    "center = [\"felipe\"]\n",
    "\n",
    "textRange('cosine', 4, center, attrib)\n"
   ]
  },
  {
   "cell_type": "code",
   "execution_count": 8,
   "metadata": {},
   "outputs": [
    {
     "name": "stdout",
     "output_type": "stream",
     "text": [
      "1\n",
      "2\n"
     ]
    }
   ],
   "source": [
    "teste = {\"1\":1, \"2\":2}\n",
    "\n",
    "for x in teste:\n",
    "    print(x)"
   ]
  },
  {
   "cell_type": "markdown",
   "metadata": {},
   "source": [
    "### Spatial"
   ]
  },
  {
   "cell_type": "code",
   "execution_count": null,
   "metadata": {},
   "outputs": [],
   "source": [
    "# Aqui existem duas condições que tem que ser tratadas: virão duas colunas (lat long) ou um GEOMETRY numa vibe de POINT(X,Y)?? vou implementar primeiro para lat long\n",
    "from itertools import islice\n",
    "from distance import DistanceFunctions\n",
    "dist = DistanceFunctions()\n",
    "\n",
    "dist_funcs = {\n",
    "    'cosine': dist.cosine,\n",
    "    'manhattan': dist.manhattan,\n",
    "    'haversine': dist.haversine\n",
    "}\n",
    "\n",
    "# Para spatial, eu tenho que tratar tudo sempre como \"LAT,LONG\" não posso sair disso, desconsiderar os outros \n",
    "\n",
    "def generateDistanceValues(func, center, attrib):\n",
    "    result = {}\n",
    "\n",
    "    for value in attrib:\n",
    "        print(value)\n",
    "        distance_value = dist_funcs[func](center, value)\n",
    "        # Unir as funções, de modo que checar se caso for uma lista, então vai ser spatial\n",
    "        valueAsString = f\"{value[0]},{value[1]}\"\n",
    "        result[valueAsString] = distance_value\n",
    "\n",
    "    return result\n",
    "\n",
    "\n",
    "# Ambas funções vão ser apenas knn and range, porque servem para ambas\n",
    "\n",
    "def spatialKnn(func, k, center, attrib):\n",
    "    distances = generateDistanceValues(func, center, attrib)\n",
    "    sorted_by_values = dict(\n",
    "        sorted(distances.items(), key=lambda item: item[1]))\n",
    "    res = dict(islice(sorted_by_values.items(), k))\n",
    "\n",
    "    return res\n",
    "\n",
    "\n",
    "def spatialRange(func, radius, center, attrib):\n",
    "    distances = generateDistanceValues(func, center, attrib)\n",
    "    sorted_by_values = dict(\n",
    "        sorted(distances.items(), key=lambda item: item[1]))\n",
    "    res = {val: sorted_by_values[val]\n",
    "           for val in sorted_by_values if sorted_by_values[val] < radius}\n",
    "    return res"
   ]
  },
  {
   "cell_type": "code",
   "execution_count": 27,
   "metadata": {},
   "outputs": [
    {
     "name": "stdout",
     "output_type": "stream",
     "text": [
      "True\n"
     ]
    }
   ],
   "source": [
    "a = []\n",
    "print(type(a) == list)"
   ]
  },
  {
   "cell_type": "code",
   "execution_count": null,
   "metadata": {},
   "outputs": [
    {
     "name": "stdout",
     "output_type": "stream",
     "text": [
      "[-9.74806, -36.66111]\n",
      "[-9.4075, -36.63361]\n",
      "[-9.47833, -35.85389]\n",
      "[-10.2875, -36.58111]\n",
      "[-9.1625, -36.03222]\n",
      "[-9.78333, -36.1]\n",
      "[-9.38333, -37.21667]\n",
      "[-9.38611, -35.245]\n",
      "[-9.99012, -36.43273]\n"
     ]
    },
    {
     "data": {
      "text/plain": [
       "{'-9.47833,-35.85389': 24.57270874779627,\n",
       " '-9.78333,-36.1': 42.053387352221456,\n",
       " '-9.38611,-35.245': 62.11346253140686,\n",
       " '-9.1625,-36.03222': 64.75658426456313}"
      ]
     },
     "execution_count": 26,
     "metadata": {},
     "output_type": "execute_result"
    }
   ],
   "source": [
    "latLong = [\n",
    "    \n",
    "  [-9.74806, -36.66111],\n",
    "  [-9.4075, -36.63361], \n",
    "  [-9.47833, -35.85389],\n",
    "  [-10.2875, -36.58111],  \n",
    "  [-9.1625, -36.03222], \n",
    "  [-9.78333, -36.1],    \n",
    "  [-9.38333, -37.21667],\n",
    "  [-9.38611, -35.245],  \n",
    "  [-9.99012, -36.43273]\n",
    "]\n",
    "\n",
    "center = [-9.66583, -35.73528]\n",
    "\n",
    "names = [\n",
    "  \"Arapiraca\",\n",
    "  \"Palmeira dos Índios\",\n",
    "  \"Rio Largo\",\n",
    "  \"Penedo\",\n",
    "  \"União dos Palmares\",\n",
    "  \"São Miguel dos Campos\",\n",
    "  \"Santana do Ipanema\",\n",
    "  \"Maragogi\",\n",
    "  \"Teotônio Vilela\"\n",
    "]\n",
    "\n",
    "spatialKnn('haversine', 4, center, latLong)\n",
    "\n",
    "# Talvez tratar essa resposta, para ele dar uma resposta de alguma forma mais interessante"
   ]
  },
  {
   "cell_type": "markdown",
   "metadata": {},
   "source": [
    "### Time\n"
   ]
  },
  {
   "cell_type": "code",
   "execution_count": null,
   "metadata": {},
   "outputs": [],
   "source": [
    "# Range"
   ]
  }
 ],
 "metadata": {
  "kernelspec": {
   "display_name": "venv",
   "language": "python",
   "name": "python3"
  },
  "language_info": {
   "codemirror_mode": {
    "name": "ipython",
    "version": 3
   },
   "file_extension": ".py",
   "mimetype": "text/x-python",
   "name": "python",
   "nbconvert_exporter": "python",
   "pygments_lexer": "ipython3",
   "version": "3.12.3"
  }
 },
 "nbformat": 4,
 "nbformat_minor": 2
}
