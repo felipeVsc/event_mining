{
 "cells": [
  {
   "cell_type": "markdown",
   "metadata": {},
   "source": [
    "### This file is for testing a duckdb solution"
   ]
  },
  {
   "cell_type": "code",
   "execution_count": 1,
   "metadata": {},
   "outputs": [
    {
     "ename": "ParserException",
     "evalue": "Parser Error: syntax error at or near \"mydb\"",
     "output_type": "error",
     "traceback": [
      "\u001b[0;31m---------------------------------------------------------------------------\u001b[0m",
      "\u001b[0;31mParserException\u001b[0m                           Traceback (most recent call last)",
      "Cell \u001b[0;32mIn[1], line 15\u001b[0m\n\u001b[1;32m     12\u001b[0m con\u001b[38;5;241m.\u001b[39mexecute(\u001b[38;5;124mf\u001b[39m\u001b[38;5;124m\"\u001b[39m\u001b[38;5;124mINSTALL postgres; LOAD postgres;\u001b[39m\u001b[38;5;124m\"\u001b[39m)\n\u001b[1;32m     14\u001b[0m \u001b[38;5;66;03m# Register PostgreSQL table in DuckDB (Lazy Loading)\u001b[39;00m\n\u001b[0;32m---> 15\u001b[0m \u001b[43mcon\u001b[49m\u001b[38;5;241;43m.\u001b[39;49m\u001b[43mexecute\u001b[49m\u001b[43m(\u001b[49m\u001b[38;5;124;43mf\u001b[39;49m\u001b[38;5;124;43m\"\"\"\u001b[39;49m\n\u001b[1;32m     16\u001b[0m \u001b[38;5;124;43m    CREATE VIEW my_data AS \u001b[39;49m\n\u001b[1;32m     17\u001b[0m \u001b[38;5;124;43m    SELECT * FROM postgres_scan(\u001b[39;49m\u001b[38;5;124;43m'\u001b[39;49m\u001b[38;5;132;43;01m{\u001b[39;49;00m\u001b[43mPG_CONN\u001b[49m\u001b[38;5;132;43;01m}\u001b[39;49;00m\u001b[38;5;124;43m'\u001b[39;49m\u001b[38;5;124;43m, \u001b[39;49m\u001b[38;5;124;43m'\u001b[39;49m\u001b[38;5;124;43mpublic.my_table\u001b[39;49m\u001b[38;5;124;43m'\u001b[39;49m\u001b[38;5;124;43m)\u001b[39;49m\n\u001b[1;32m     18\u001b[0m \u001b[38;5;124;43m\"\"\"\u001b[39;49m\u001b[43m)\u001b[49m\n\u001b[1;32m     21\u001b[0m \u001b[38;5;28;01mfrom\u001b[39;00m \u001b[38;5;21;01msklearn\u001b[39;00m\u001b[38;5;21;01m.\u001b[39;00m\u001b[38;5;21;01mcluster\u001b[39;00m \u001b[38;5;28;01mimport\u001b[39;00m KMeans\n\u001b[1;32m     22\u001b[0m \u001b[38;5;28;01mimport\u001b[39;00m \u001b[38;5;21;01mnumpy\u001b[39;00m \u001b[38;5;28;01mas\u001b[39;00m \u001b[38;5;21;01mnp\u001b[39;00m\n",
      "\u001b[0;31mParserException\u001b[0m: Parser Error: syntax error at or near \"mydb\""
     ]
    }
   ],
   "source": [
    "# ChatGPT Example\n",
    "\n",
    "import duckdb\n",
    "import pandas as pd\n",
    "import psycopg2\n",
    "\n",
    "# PostgreSQL Connection Details\n",
    "PG_CONN = \"dbname='mydb' user='myuser' password='mypassword' host='localhost' port='5432'\"\n",
    "\n",
    "# Connect DuckDB to PostgreSQL\n",
    "con = duckdb.connect()\n",
    "con.execute(f\"INSTALL postgres; LOAD postgres;\")\n",
    "\n",
    "# Register PostgreSQL table in DuckDB (Lazy Loading)\n",
    "con.execute(f\"\"\"\n",
    "    CREATE VIEW my_data AS \n",
    "    SELECT * FROM postgres_scan('{PG_CONN}', 'public.my_table')\n",
    "\"\"\")\n",
    "\n",
    "\n",
    "from sklearn.cluster import KMeans\n",
    "import numpy as np\n",
    "\n",
    "# Custom clustering function\n",
    "def cluster_price(value):\n",
    "    return \"Low\" if value < 250 else \"High\"\n",
    "\n",
    "# Register the UDF in DuckDB\n",
    "con.create_function(\"Cluster\", cluster_price, returns=\"VARCHAR\")\n",
    "\n",
    "# Query PostgreSQL data with transformation applied dynamically\n",
    "result = con.execute(\"SELECT id, price, Cluster(price) AS price_cluster FROM my_data\").fetchdf()\n",
    "\n",
    "print(result)\n",
    "\n",
    "# Load data from PostgreSQL into Pandas\n",
    "df = con.execute(\"SELECT price FROM my_data\").fetchdf()\n",
    "\n",
    "# Apply KMeans Clustering\n",
    "kmeans = KMeans(n_clusters=2, random_state=42, n_init=10)\n",
    "df['cluster'] = kmeans.fit_predict(df[['price']])\n",
    "\n",
    "# Register the result dynamically in DuckDB\n",
    "con.register('clustered_df', df)\n",
    "\n",
    "# Query with the new cluster information\n",
    "result = con.execute(\"SELECT * FROM clustered_df\").fetchdf()\n",
    "print(result)\n",
    "\n"
   ]
  },
  {
   "cell_type": "code",
   "execution_count": null,
   "metadata": {},
   "outputs": [
    {
     "name": "stdout",
     "output_type": "stream",
     "text": [
      "[\n",
      "  [\n",
      "    1200.5,\n",
      "    899.99,\n",
      "    499,\n",
      "    199.99,\n",
      "    149.99,\n",
      "    399.99,\n",
      "    299.99,\n",
      "    89.99,\n",
      "    49.99,\n",
      "    179.99\n",
      "  ]\n",
      "]\n",
      "      clts\n",
      "0  1200.50\n",
      "1   899.99\n",
      "2   499.00\n",
      "3   199.99\n",
      "4   149.99\n",
      "5   399.99\n",
      "6   299.99\n",
      "7    89.99\n",
      "8    49.99\n",
      "9   179.99\n"
     ]
    },
    {
     "name": "stderr",
     "output_type": "stream",
     "text": [
      "/tmp/ipykernel_67696/2108598865.py:21: DeprecationWarning: numpy.core is deprecated and has been renamed to numpy._core. The numpy._core namespace contains private NumPy internals and its use is discouraged, as NumPy internals can change without warning in any release. In practice, most real-world usage of numpy.core is to access functionality in the public NumPy API. If that is the case, use the public NumPy API. If not, you are using NumPy internals. If you would still like to access an internal attribute, use numpy._core.multiarray.\n",
      "  con.create_function(\"Cluster\", cluster_price, [float,float], float, type='arrow')\n"
     ]
    },
    {
     "data": {
      "image/png": "[encoded data removed]",
      "text/plain": [
       "<Figure size 640x480 with 1 Axes>"
      ]
     },
     "metadata": {},
     "output_type": "display_data"
    }
   ],
   "source": [
    "import duckdb\n",
    "import duckdb.typing\n",
    "import pandas as pd\n",
    "import psycopg2\n",
    "\n",
    "PG_CONN = 'host=localhost port=5432 user=postgres password=password dbname=example'\n",
    "\n",
    "con = duckdb.connect()\n",
    "con.execute(f\"INSTALL postgres_scanner; LOAD postgres_scanner; CALL postgres_attach('{PG_CONN}')\")\n",
    "\n",
    "from visualizations import Visualization\n",
    "\n",
    "vis = Visualization()\n",
    "\n",
    "def cluster_price(value, teste=\"TestingString\"):\n",
    "    print(value)\n",
    "    vis.lineplot(value,value)\n",
    "    return value\n",
    "\n",
    "from typing import Union\n",
    "con.create_function(\"Cluster\", cluster_price, [float,float], float, type='arrow')\n",
    "\n",
    "result = con.execute(\"WITH teste as (SELECT id, Cluster(price,price) as clts from products) SELECT clts from teste;\").fetchdf()\n",
    "print(result)\n",
    "\n",
    "\n"
   ]
  },
  {
   "cell_type": "code",
   "execution_count": null,
   "metadata": {},
   "outputs": [
    {
     "ename": "InvalidInputException",
     "evalue": "Invalid Input Error: 2 types provided, but the provided function takes 1 parameters",
     "output_type": "error",
     "traceback": [
      "\u001b[0;31m---------------------------------------------------------------------------\u001b[0m",
      "\u001b[0;31mInvalidInputException\u001b[0m                     Traceback (most recent call last)",
      "Cell \u001b[0;32mIn[11], line 25\u001b[0m\n\u001b[1;32m     22\u001b[0m \u001b[38;5;28;01mfrom\u001b[39;00m \u001b[38;5;21;01mpyarrow\u001b[39;00m \u001b[38;5;28;01mimport\u001b[39;00m types\n\u001b[1;32m     23\u001b[0m \u001b[38;5;66;03m# Dinamizar para que primeiro ele leia a query pra saber os tipos??\u001b[39;00m\n\u001b[0;32m---> 25\u001b[0m \u001b[43mcon\u001b[49m\u001b[38;5;241;43m.\u001b[39;49m\u001b[43mcreate_function\u001b[49m\u001b[43m(\u001b[49m\u001b[38;5;124;43m\"\u001b[39;49m\u001b[38;5;124;43mCluster\u001b[39;49m\u001b[38;5;124;43m\"\u001b[39;49m\u001b[43m,\u001b[49m\u001b[43m \u001b[49m\u001b[43mcluster_price\u001b[49m\u001b[43m,\u001b[49m\u001b[43m \u001b[49m\u001b[43m[\u001b[49m\u001b[38;5;28;43mfloat\u001b[39;49m\u001b[43m,\u001b[49m\u001b[43m \u001b[49m\u001b[38;5;28;43mfloat\u001b[39;49m\u001b[43m]\u001b[49m\u001b[43m,\u001b[49m\u001b[43m \u001b[49m\u001b[38;5;28;43mfloat\u001b[39;49m\u001b[43m,\u001b[49m\u001b[43m \u001b[49m\u001b[38;5;28;43mtype\u001b[39;49m\u001b[38;5;241;43m=\u001b[39;49m\u001b[38;5;124;43m\"\u001b[39;49m\u001b[38;5;124;43marrow\u001b[39;49m\u001b[38;5;124;43m\"\u001b[39;49m\u001b[43m)\u001b[49m\n\u001b[1;32m     27\u001b[0m result \u001b[38;5;241m=\u001b[39m con\u001b[38;5;241m.\u001b[39mexecute(\u001b[38;5;124m\"\u001b[39m\u001b[38;5;124mWITH teste as (SELECT Cluster(price, price) as clts from products) SELECT clts from teste;\u001b[39m\u001b[38;5;124m\"\u001b[39m)\u001b[38;5;241m.\u001b[39mfetchdf()\n\u001b[1;32m     28\u001b[0m \u001b[38;5;28mprint\u001b[39m(result)\n",
      "\u001b[0;31mInvalidInputException\u001b[0m: Invalid Input Error: 2 types provided, but the provided function takes 1 parameters"
     ]
    }
   ],
   "source": [
    "import duckdb\n",
    "import duckdb.typing\n",
    "import pandas as pd\n",
    "import psycopg2\n",
    "\n",
    "PG_CONN = 'host=localhost port=5432 user=postgres password=password dbname=example'\n",
    "\n",
    "con = duckdb.connect()\n",
    "con.execute(f\"INSTALL postgres_scanner; LOAD postgres_scanner; CALL postgres_attach('{PG_CONN}')\")\n",
    "\n",
    "from ml import MachineLearning\n",
    "\n",
    "ml_class = MachineLearning()\n",
    "\n",
    "def cluster_price(value: list) -> float:\n",
    "    print(value)\n",
    "    res = ml_class.cluster_kmeans(value)\n",
    "    return res\n",
    "\n",
    "from typing import Union\n",
    "from duckdb.typing import DuckDBPyType\n",
    "from pyarrow import types\n",
    "# Dinamizar para que primeiro ele leia a query pra saber os tipos??\n",
    "\n",
    "con.create_function(\"Cluster\", cluster_price, [float, float], float, type=\"arrow\")\n",
    "\n",
    "result = con.execute(\"WITH teste as (SELECT Cluster(price, price) as clts from products) SELECT clts from teste;\").fetchdf()\n",
    "print(result)\n",
    "\n",
    "# Maybe with map??\n",
    "\n"
   ]
  },
  {
   "cell_type": "markdown",
   "metadata": {},
   "source": [
    "# The following notebook is the main solution using DuckDB"
   ]
  },
  {
   "cell_type": "code",
   "execution_count": null,
   "metadata": {},
   "outputs": [
    {
     "name": "stdout",
     "output_type": "stream",
     "text": [
      "Collecting sqlparse\n",
      "  Using cached sqlparse-0.5.3-py3-none-any.whl.metadata (3.9 kB)\n",
      "Using cached sqlparse-0.5.3-py3-none-any.whl (44 kB)\n",
      "Installing collected packages: sqlparse\n",
      "Successfully installed sqlparse-0.5.3\n"
     ]
    }
   ],
   "source": [
    "!pip install sqlparse"
   ]
  },
  {
   "cell_type": "code",
   "execution_count": null,
   "metadata": {},
   "outputs": [],
   "source": [
    "from duck_solution import EngineDuck\n",
    "\n",
    "engine = EngineDuck(host='localhost',port='5432',name='postgres',user='postgres',password='password')\n",
    "engine.registerAllVisualizeFunctions()\n",
    "engine.registerAllMlFunctions()\n",
    "engine.registerAllSimilarityFunctions()\n"
   ]
  },
  {
   "cell_type": "code",
   "execution_count": null,
   "metadata": {},
   "outputs": [
    {
     "name": "stdout",
     "output_type": "stream",
     "text": [
      "WORDCLOUD(word)\n",
      " \n",
      "WITH findEvent AS ( \n",
      "    SELECT title AS word \n",
      "    FROM event e, date d, content c\n",
      "    WHERE e.dateID = d.dateID AND e.contentid = c.contentid AND\n",
      "          fullDate = '2022-09-13'\n",
      ") SELECT WORDCLOUD(array_agg(word)) FROM findEvent;\n"
     ]
    },
    {
     "ename": "InvalidInputException",
     "evalue": "Invalid Input Error: Python exception occurred while executing the UDF: ArrowNotImplementedError: Function 'utf8_split_whitespace' has no kernel matching input types (list<l: string>)\n\nAt:\n  pyarrow/error.pxi(92): pyarrow.lib.check_status\n",
     "output_type": "error",
     "traceback": [
      "\u001b[0;31m---------------------------------------------------------------------------\u001b[0m",
      "\u001b[0;31mInvalidInputException\u001b[0m                     Traceback (most recent call last)",
      "Cell \u001b[0;32mIn[2], line 1\u001b[0m\n\u001b[0;32m----> 1\u001b[0m \u001b[43mengine\u001b[49m\u001b[38;5;241;43m.\u001b[39;49m\u001b[43mrunQuery\u001b[49m\u001b[43m(\u001b[49m\u001b[38;5;124;43m\"\"\"\u001b[39;49m\u001b[38;5;124;43m \u001b[39;49m\n\u001b[1;32m      2\u001b[0m \u001b[38;5;124;43mWITH findEvent AS ( \u001b[39;49m\n\u001b[1;32m      3\u001b[0m \u001b[38;5;124;43m    SELECT title AS word \u001b[39;49m\n\u001b[1;32m      4\u001b[0m \u001b[38;5;124;43m    FROM event e, date d, content c\u001b[39;49m\n\u001b[1;32m      5\u001b[0m \u001b[38;5;124;43m    WHERE e.dateID = d.dateID AND e.contentid = c.contentid AND\u001b[39;49m\n\u001b[1;32m      6\u001b[0m \u001b[38;5;124;43m          fullDate = \u001b[39;49m\u001b[38;5;124;43m'\u001b[39;49m\u001b[38;5;124;43m2022-09-13\u001b[39;49m\u001b[38;5;124;43m'\u001b[39;49m\n\u001b[1;32m      7\u001b[0m \u001b[38;5;124;43m) SELECT WORDCLOUD(word) FROM findEvent;\u001b[39;49m\n\u001b[1;32m      8\u001b[0m \u001b[38;5;124;43m\"\"\"\u001b[39;49m\u001b[43m)\u001b[49m\n",
      "File \u001b[0;32m~/code/masters/event_mining/main/duck_solution.py:46\u001b[0m, in \u001b[0;36mEngineDuck.runQuery\u001b[0;34m(self, query)\u001b[0m\n\u001b[1;32m     44\u001b[0m transformedQuery \u001b[38;5;241m=\u001b[39m \u001b[38;5;28mself\u001b[39m\u001b[38;5;241m.\u001b[39mtransformQueryToArrayAgg(query) \u001b[38;5;66;03m# This is a workaround for Duckdb's vectorization. Its only needed in ML and Vis functions.\u001b[39;00m\n\u001b[1;32m     45\u001b[0m \u001b[38;5;28mprint\u001b[39m(transformedQuery)\n\u001b[0;32m---> 46\u001b[0m result \u001b[38;5;241m=\u001b[39m \u001b[38;5;28;43mself\u001b[39;49m\u001b[38;5;241;43m.\u001b[39;49m\u001b[43mcon\u001b[49m\u001b[38;5;241;43m.\u001b[39;49m\u001b[43mexecute\u001b[49m\u001b[43m(\u001b[49m\u001b[43mtransformedQuery\u001b[49m\u001b[43m)\u001b[49m\u001b[38;5;241m.\u001b[39mfetch_df()\n\u001b[1;32m     47\u001b[0m \u001b[38;5;28;01mreturn\u001b[39;00m result\n",
      "\u001b[0;31mInvalidInputException\u001b[0m: Invalid Input Error: Python exception occurred while executing the UDF: ArrowNotImplementedError: Function 'utf8_split_whitespace' has no kernel matching input types (list<l: string>)\n\nAt:\n  pyarrow/error.pxi(92): pyarrow.lib.check_status\n"
     ]
    }
   ],
   "source": [
    "engine.runQuery(\"\"\" \n",
    "WITH findEvent AS ( \n",
    "    SELECT title AS word \n",
    "    FROM event e, date d, content c\n",
    "    WHERE e.dateID = d.dateID AND e.contentid = c.contentid AND\n",
    "          fullDate = '2022-09-13'\n",
    ") SELECT WORDCLOUD(word) FROM findEvent;\n",
    "\"\"\")"
   ]
  },
  {
   "cell_type": "code",
   "execution_count": null,
   "metadata": {},
   "outputs": [
    {
     "name": "stdout",
     "output_type": "stream",
     "text": [
      "HBAR(wordToken, total)\n",
      " \n",
      "\n",
      "WITH findEvent AS ( \n",
      "    SELECT title AS word \n",
      "    FROM event e, date d, content c\n",
      "    WHERE e.dateID = d.dateID AND e.contentid = c.contentid AND\n",
      "          fullDate = '2022-09-13'\n",
      "), countWords AS ( \n",
      "    SELECT regexp_split_to_table(word, ' ') AS wordToken FROM findEvent\n",
      "), frequency as (\n",
      "    SELECT wordToken, COUNT(*) as total FROM countWords GROUP BY wordToken\n",
      ")\n",
      "SELECT HBAR(array_agg(wordToken), array_agg(total)) from frequency \n",
      "\n",
      "\n",
      "['Island', 'Biden', 'Candidates', 'The', 'Senate', 'Key', 'Is', 'House', 'In', 'Renewed', 'Rhode', 'Scott', 'GOP', 'Joe', 'Struggling', 'Ballot', 'Sen.', 'National', 'On', 'Tim', 'Urges', 'Unity', 'Speech', '‘Cancer', 'Over', 'Primary', 'Moonshot’', 'Electability', 'Downplays', 'Concerns']\n",
      "[1, 1, 1, 1, 1, 1, 1, 1, 2, 1, 1, 1, 1, 1, 1, 1, 1, 1, 2, 1, 1, 1, 1, 1, 1, 1, 1, 2, 1, 1]\n",
      "<class 'list'>\n",
      "<class 'list'>\n",
      "é depois do barh\n",
      " eh antes do return \n"
     ]
    },
    {
     "data": {
      "text/html": [
       "<div>\n",
       "<style scoped>\n",
       "    .dataframe tbody tr th:only-of-type {\n",
       "        vertical-align: middle;\n",
       "    }\n",
       "\n",
       "    .dataframe tbody tr th {\n",
       "        vertical-align: top;\n",
       "    }\n",
       "\n",
       "    .dataframe thead th {\n",
       "        text-align: right;\n",
       "    }\n",
       "</style>\n",
       "<table border=\"1\" class=\"dataframe\">\n",
       "  <thead>\n",
       "    <tr style=\"text-align: right;\">\n",
       "      <th></th>\n",
       "      <th>hbar(array_agg(wordToken), array_agg(total))</th>\n",
       "    </tr>\n",
       "  </thead>\n",
       "  <tbody>\n",
       "    <tr>\n",
       "      <th>0</th>\n",
       "      <td>1.0</td>\n",
       "    </tr>\n",
       "  </tbody>\n",
       "</table>\n",
       "</div>"
      ],
      "text/plain": [
       "   hbar(array_agg(wordToken), array_agg(total))\n",
       "0                                           1.0"
      ]
     },
     "execution_count": 5,
     "metadata": {},
     "output_type": "execute_result"
    },
    {
     "data": {
      "image/png": "[encoded data removed]",
      "text/plain": [
       "<Figure size 640x480 with 1 Axes>"
      ]
     },
     "metadata": {},
     "output_type": "display_data"
    }
   ],
   "source": [
    "engine.runQuery(\"\"\" \n",
    "\n",
    "WITH findEvent AS ( \n",
    "    SELECT title AS word \n",
    "    FROM event e, date d, content c\n",
    "    WHERE e.dateID = d.dateID AND e.contentid = c.contentid AND\n",
    "          fullDate = '2022-09-13'\n",
    "), countWords AS ( \n",
    "    SELECT regexp_split_to_table(word, ' ') AS wordToken FROM findEvent\n",
    "), frequency as (\n",
    "    SELECT wordToken, COUNT(*) as total FROM countWords GROUP BY wordToken\n",
    ")\n",
    "SELECT HBAR(wordToken, total) from frequency \n",
    "\n",
    "\"\"\")"
   ]
  },
  {
   "cell_type": "code",
   "execution_count": null,
   "metadata": {},
   "outputs": [],
   "source": [
    "# Testing without array_agg\n",
    "\n",
    "engine.runQuery(\"\"\" \n",
    "\n",
    "WITH findEvent AS ( \n",
    "    SELECT title AS word \n",
    "    FROM event e, date d, content c\n",
    "    WHERE e.dateID = d.dateID AND e.contentid = c.contentid AND\n",
    "          fullDate = '2022-09-13'\n",
    "), countWords AS ( \n",
    "    SELECT regexp_split_to_table(word, ' ') AS wordToken FROM findEvent\n",
    "), frequency as (\n",
    "    SELECT wordToken, COUNT(*) as total FROM countWords GROUP BY wordToken\n",
    ")\n",
    "SELECT HBAR(array_agg(wordToken), array_agg(total)) from frequency \n",
    "\n",
    "\"\"\")"
   ]
  },
  {
   "cell_type": "code",
   "execution_count": null,
   "metadata": {},
   "outputs": [
    {
     "data": {
      "text/plain": [
       "[True, True, True, True, True, True, True, True, True, True]"
      ]
     },
     "execution_count": 6,
     "metadata": {},
     "output_type": "execute_result"
    }
   ],
   "source": [
    "[True]*10"
   ]
  },
  {
   "cell_type": "markdown",
   "metadata": {},
   "source": [
    "### Testing similarity stuff"
   ]
  },
  {
   "cell_type": "code",
   "execution_count": null,
   "metadata": {},
   "outputs": [
    {
     "ename": "BinderException",
     "evalue": "Binder Error: column \"price\" must appear in the GROUP BY clause or must be part of an aggregate function.\nEither add it to the GROUP BY list, or use \"ANY_VALUE(price)\" if the exact value of \"price\" is not important.\n\nLINE 1: WITH teste as (SELECT Cluster(3, array_agg(price), price) as clts from products) SELECT clts from teste;\n                                                           ^",
     "output_type": "error",
     "traceback": [
      "\u001b[0;31m---------------------------------------------------------------------------\u001b[0m",
      "\u001b[0;31mBinderException\u001b[0m                           Traceback (most recent call last)",
      "Cell \u001b[0;32mIn[7], line 27\u001b[0m\n\u001b[1;32m     25\u001b[0m con\u001b[38;5;241m.\u001b[39mcreate_function(\u001b[38;5;124m\"\u001b[39m\u001b[38;5;124mCluster\u001b[39m\u001b[38;5;124m\"\u001b[39m, cluster_price, parameters\u001b[38;5;241m=\u001b[39m\u001b[38;5;28;01mNone\u001b[39;00m, return_type\u001b[38;5;241m=\u001b[39m\u001b[38;5;28mfloat\u001b[39m, \u001b[38;5;28mtype\u001b[39m\u001b[38;5;241m=\u001b[39m\u001b[38;5;124m\"\u001b[39m\u001b[38;5;124marrow\u001b[39m\u001b[38;5;124m\"\u001b[39m)\n\u001b[1;32m     26\u001b[0m \u001b[38;5;66;03m# YAYYYYY THIS WORKS!! eu posso passar como LISTA INDIVIDUAL MESMO, cada row vai ser um [rowA1, rowB1], [rowA2]\u001b[39;00m\n\u001b[0;32m---> 27\u001b[0m result \u001b[38;5;241m=\u001b[39m \u001b[43mcon\u001b[49m\u001b[38;5;241;43m.\u001b[39;49m\u001b[43mexecute\u001b[49m\u001b[43m(\u001b[49m\u001b[38;5;124;43m\"\u001b[39;49m\u001b[38;5;124;43mWITH teste as (SELECT Cluster(3, array_agg(price), price) as clts from products) SELECT clts from teste;\u001b[39;49m\u001b[38;5;124;43m\"\u001b[39;49m\u001b[43m)\u001b[49m\u001b[38;5;241m.\u001b[39mfetchdf()\n\u001b[1;32m     28\u001b[0m \u001b[38;5;28mprint\u001b[39m(result)\n\u001b[1;32m     30\u001b[0m \u001b[38;5;66;03m# Maybe with map??\u001b[39;00m\n\u001b[1;32m     31\u001b[0m \n\u001b[1;32m     32\u001b[0m \u001b[38;5;66;03m# eu posso definir e nao fazer um check, no maximo type check, mas order check nao\u001b[39;00m\n\u001b[1;32m     33\u001b[0m \n\u001b[1;32m     34\u001b[0m \u001b[38;5;66;03m# ainda tenho que checar como vai ficar a chunkedarray no caso do hbar por ex\u001b[39;00m\n",
      "\u001b[0;31mBinderException\u001b[0m: Binder Error: column \"price\" must appear in the GROUP BY clause or must be part of an aggregate function.\nEither add it to the GROUP BY list, or use \"ANY_VALUE(price)\" if the exact value of \"price\" is not important.\n\nLINE 1: WITH teste as (SELECT Cluster(3, array_agg(price), price) as clts from products) SELECT clts from teste;\n                                                           ^"
     ]
    }
   ],
   "source": [
    "import duckdb\n",
    "import duckdb.typing\n",
    "import pandas as pd\n",
    "import psycopg2\n",
    "\n",
    "PG_CONN = 'host=localhost port=5432 user=postgres password=password dbname=example'\n",
    "\n",
    "con = duckdb.connect()\n",
    "con.execute(f\"INSTALL postgres_scanner; LOAD postgres_scanner; CALL postgres_attach('{PG_CONN}')\")\n",
    "\n",
    "from ml import MachineLearning\n",
    "\n",
    "ml_class = MachineLearning()\n",
    "\n",
    "def cluster_price(*args) -> float:\n",
    "    res = ml_class.cluster_kmeans(*args)\n",
    "    print(res)\n",
    "    return res\n",
    "\n",
    "from typing import Union\n",
    "from duckdb.typing import DuckDBPyType\n",
    "from pyarrow import types\n",
    "# Dinamizar para que primeiro ele leia a query pra saber os tipos??\n",
    "\n",
    "con.create_function(\"Cluster\", cluster_price, parameters=None, return_type=float, type=\"arrow\")\n",
    "# YAYYYYY THIS WORKS!! eu posso passar como LISTA INDIVIDUAL MESMO, cada row vai ser um [rowA1, rowB1], [rowA2]\n",
    "result = con.execute(\"WITH teste as (SELECT Cluster(k,price, price) as clts from products) SELECT clts from teste;\").fetchdf()\n",
    "print(result)\n",
    "\n",
    "# Maybe with map??\n",
    "\n",
    "# eu posso definir e nao fazer um check, no maximo type check, mas order check nao\n",
    "\n",
    "# ainda tenho que checar como vai ficar a chunkedarray no caso do hbar por ex"
   ]
  },
  {
   "cell_type": "code",
   "execution_count": null,
   "metadata": {},
   "outputs": [
    {
     "data": {
      "text/html": [
       "<div>\n",
       "<style scoped>\n",
       "    .dataframe tbody tr th:only-of-type {\n",
       "        vertical-align: middle;\n",
       "    }\n",
       "\n",
       "    .dataframe tbody tr th {\n",
       "        vertical-align: top;\n",
       "    }\n",
       "\n",
       "    .dataframe thead th {\n",
       "        text-align: right;\n",
       "    }\n",
       "</style>\n",
       "<table border=\"1\" class=\"dataframe\">\n",
       "  <thead>\n",
       "    <tr style=\"text-align: right;\">\n",
       "      <th></th>\n",
       "      <th>word</th>\n",
       "    </tr>\n",
       "  </thead>\n",
       "  <tbody>\n",
       "    <tr>\n",
       "      <th>0</th>\n",
       "      <td>Joe Biden Urges National Unity In Speech On Re...</td>\n",
       "    </tr>\n",
       "    <tr>\n",
       "      <th>1</th>\n",
       "      <td>Sen. Tim Scott Downplays Electability Concerns...</td>\n",
       "    </tr>\n",
       "    <tr>\n",
       "      <th>2</th>\n",
       "      <td>Electability Is On The Ballot In Key Rhode Isl...</td>\n",
       "    </tr>\n",
       "  </tbody>\n",
       "</table>\n",
       "</div>"
      ],
      "text/plain": [
       "                                                word\n",
       "0  Joe Biden Urges National Unity In Speech On Re...\n",
       "1  Sen. Tim Scott Downplays Electability Concerns...\n",
       "2  Electability Is On The Ballot In Key Rhode Isl..."
      ]
     },
     "execution_count": 3,
     "metadata": {},
     "output_type": "execute_result"
    }
   ],
   "source": [
    "engine.runQuery(\"\"\"\n",
    "                 \n",
    "WITH findEvent AS ( \n",
    "    SELECT title AS word \n",
    "    FROM event e, date d, content c\n",
    "    WHERE e.dateID = d.dateID AND e.contentid = c.contentid AND\n",
    "          fullDate = '2022-09-13'\n",
    ") SELECT word from findEvent;\n",
    "\"\"\")\n",
    "\n",
    "# THIS KINDA WORKS!!! THE PROBABLE CAUSE IS THE CHUNKED ARRAY BIT"
   ]
  },
  {
   "cell_type": "code",
   "execution_count": null,
   "metadata": {},
   "outputs": [
    {
     "name": "stdout",
     "output_type": "stream",
     "text": [
      "[101.8847810188468, 102.61175347355551, 24.57270874779627, 115.57967280175875, 64.75658426456313, 42.053387352221456, 165.46117296526407, 62.11346253140686, 84.49545073400142]\n",
      "result\n",
      "[True, True, True, True, True, True, True, True, True]\n",
      "   teste\n",
      "0   True\n",
      "1   True\n",
      "2   True\n",
      "3   True\n",
      "4   True\n",
      "5   True\n",
      "6   True\n",
      "7   True\n",
      "8   True\n"
     ]
    }
   ],
   "source": [
    "import duckdb\n",
    "import duckdb.typing\n",
    "import pandas as pd\n",
    "import psycopg2\n",
    "\n",
    "PG_CONN = 'host=localhost port=5432 user=postgres password=password dbname=latlong'\n",
    "\n",
    "con = duckdb.connect()\n",
    "con.execute(f\"INSTALL postgres_scanner; LOAD postgres_scanner; CALL postgres_attach('{PG_CONN}')\")\n",
    "\n",
    "from similarity_func import Similarity\n",
    "\n",
    "sim = Similarity()\n",
    "\n",
    "def range_sim(*args):\n",
    "    rng = sim.rangeSim(*args)\n",
    "\n",
    "    return rng\n",
    "\n",
    "from typing import Union\n",
    "from duckdb.typing import DuckDBPyType\n",
    "from pyarrow import types\n",
    "# Dinamizar para que primeiro ele leia a query pra saber os tipos??\n",
    "\n",
    "from typing import Union\n",
    "\n",
    "\n",
    "\n",
    "con.create_function(\"RANGESIM\", range_sim, parameters=None, return_type=bool, type=\"arrow\")\n",
    "\n",
    "\n",
    "# YAYYYYY THIS WORKS!! eu posso passar como LISTA INDIVIDUAL MESMO, cada row vai ser um [rowA1, rowB1], [rowA2]\n",
    "\"\"\" \n",
    "\"\"\"\n",
    "\n",
    "result = con.execute(\"\"\" \n",
    "WITH center as (SELECT latitude as latCenter,longitude as longCenter from CITIES where city_name = 'Maceió'),\n",
    "attrib as (SELECT latitude as latAttrib, longitude as longAttrib from cities where city_name != 'Maceió'), rn AS (\n",
    "SELECT RANGESIM('haversine', 200, [latCenter, longCenter], [latAttrib, longAttrib]) as teste FROM center, attrib) SELECT teste from rn;\n",
    "\"\"\").fetchdf()\n",
    "print(result)\n",
    "\n",
    "# talvez retornar o id??\n",
    "\n",
    "# con.create_function(\"RANGE\", lambda func, radius, center, attrib: self.sim.rangeSim(func, radius, center, attrib), parameters=None, return_type=float, type=\"arrow\")\n",
    "# Maybe with map??\n",
    "\n",
    "# eu posso definir e nao fazer um check, no maximo type check, mas order check nao\n",
    "\n",
    "# ainda tenho que checar como vai ficar a chunkedarray no caso do hbar por ex\n",
    "\n",
    "# falta ajustar para quando for um tamanho menor..\n",
    "\n",
    "# testar para ver como que fica em questão de tabela, se eu quiser usar dentro de um CTE por ex\n",
    "\n",
    "# Posso checar individualmente se a distancia é menor, caso for, retorne um True. Caso nao seja, retorne False. A partir dai eu posso usar o WHERE RANGE(150)  !!!!!!!!!!!\n"
   ]
  },
  {
   "cell_type": "code",
   "execution_count": null,
   "metadata": {},
   "outputs": [
    {
     "name": "stdout",
     "output_type": "stream",
     "text": [
      "[(1, 30), (2, 50), (3, 20)]\n",
      "[3, 1, 2]\n"
     ]
    }
   ],
   "source": [
    "a = [30, 50, 20]\n",
    "\n",
    "# Enumerar a lista 'a' a partir do índice 1\n",
    "enumerated_list = list(enumerate(a, start=1))\n",
    "print(enumerated_list)\n",
    "# Ordenar a lista enumerada com base no valor (segundo elemento de cada tupla)\n",
    "sorted_enumerated_list = sorted(enumerated_list, key=lambda x: x[1], reverse=True)\n",
    "\n",
    "# Extrair os índices ordenados\n",
    "indices_ordenados = [indice for indice, valor in sorted_enumerated_list]\n",
    "\n",
    "print(indices_ordenados)\n"
   ]
  },
  {
   "cell_type": "code",
   "execution_count": null,
   "metadata": {},
   "outputs": [
    {
     "name": "stdout",
     "output_type": "stream",
     "text": [
      "[1, 3, 2]\n"
     ]
    }
   ],
   "source": [
    "entrada = [50, 70, 60]\n",
    "\n",
    "# Obter a lista de índices ordenados\n",
    "indices_ordenados = [indice for indice, valor in sorted(enumerate(entrada, start=1), key=lambda x: x[1])]\n",
    "\n",
    "print(indices_ordenados)\n"
   ]
  },
  {
   "cell_type": "markdown",
   "metadata": {},
   "source": [
    "### Testing with queries"
   ]
  },
  {
   "cell_type": "code",
   "execution_count": null,
   "metadata": {},
   "outputs": [
    {
     "name": "stdout",
     "output_type": "stream",
     "text": [
      " \n",
      "WITH\n",
      "ny AS (\n",
      "    SELECT latitude AS latNY, longitude AS longNY\n",
      "    FROM location\n",
      "    WHERE city = 'New York'\n",
      "),\n",
      "cities AS (\n",
      "    SELECT latitude AS latCities, longitude AS longCities\n",
      "    FROM location\n",
      "    WHERE city != 'New York'\n",
      "    LIMIT 10\n",
      "),\n",
      "aroundNY AS (\n",
      "    SELECT city, latitude, longitude, numberNegativeNews, numberPositiveNews, month\n",
      "    FROM ny, event e, location l, date d\n",
      "    WHERE e.locationID = l.locationID\n",
      "      AND e.dateID = d.dateID\n",
      "      AND RANGE('haversine', 100000, [latNY, longNY], [latitude, longitude])\n",
      "),\n",
      "clustered AS (\n",
      "    SELECT *, CLUSTER_KMEANS(3, array_agg(latitude), array_agg(longitude), array_agg(numberNegativeNews)) OVER () AS cluster\n",
      "    FROM aroundNY\n",
      ")\n",
      "SELECT latitude, longitude, cluster\n",
      "FROM clustered;\n",
      "\n"
     ]
    },
    {
     "ename": "CatalogException",
     "evalue": "Catalog Error: cluster_kmeans is not an aggregate function",
     "output_type": "error",
     "traceback": [
      "\u001b[0;31m---------------------------------------------------------------------------\u001b[0m",
      "\u001b[0;31mCatalogException\u001b[0m                          Traceback (most recent call last)",
      "Cell \u001b[0;32mIn[2], line 8\u001b[0m\n\u001b[1;32m      5\u001b[0m engine\u001b[38;5;241m.\u001b[39mregisterAllMlFunctions()\n\u001b[1;32m      6\u001b[0m engine\u001b[38;5;241m.\u001b[39mregisterAllSimilarityFunctions()\n\u001b[0;32m----> 8\u001b[0m \u001b[43mengine\u001b[49m\u001b[38;5;241;43m.\u001b[39;49m\u001b[43mrunQuery\u001b[49m\u001b[43m(\u001b[49m\u001b[38;5;124;43m\"\"\"\u001b[39;49m\u001b[38;5;124;43m \u001b[39;49m\n\u001b[1;32m      9\u001b[0m \u001b[38;5;124;43mWITH\u001b[39;49m\n\u001b[1;32m     10\u001b[0m \u001b[38;5;124;43mny AS (\u001b[39;49m\n\u001b[1;32m     11\u001b[0m \u001b[38;5;124;43m    SELECT latitude AS latNY, longitude AS longNY\u001b[39;49m\n\u001b[1;32m     12\u001b[0m \u001b[38;5;124;43m    FROM location\u001b[39;49m\n\u001b[1;32m     13\u001b[0m \u001b[38;5;124;43m    WHERE city = \u001b[39;49m\u001b[38;5;124;43m'\u001b[39;49m\u001b[38;5;124;43mNew York\u001b[39;49m\u001b[38;5;124;43m'\u001b[39;49m\n\u001b[1;32m     14\u001b[0m \u001b[38;5;124;43m),\u001b[39;49m\n\u001b[1;32m     15\u001b[0m \u001b[38;5;124;43mcities AS (\u001b[39;49m\n\u001b[1;32m     16\u001b[0m \u001b[38;5;124;43m    SELECT latitude AS latCities, longitude AS longCities\u001b[39;49m\n\u001b[1;32m     17\u001b[0m \u001b[38;5;124;43m    FROM location\u001b[39;49m\n\u001b[1;32m     18\u001b[0m \u001b[38;5;124;43m    WHERE city != \u001b[39;49m\u001b[38;5;124;43m'\u001b[39;49m\u001b[38;5;124;43mNew York\u001b[39;49m\u001b[38;5;124;43m'\u001b[39;49m\n\u001b[1;32m     19\u001b[0m \u001b[38;5;124;43m    LIMIT 10\u001b[39;49m\n\u001b[1;32m     20\u001b[0m \u001b[38;5;124;43m),\u001b[39;49m\n\u001b[1;32m     21\u001b[0m \u001b[38;5;124;43maroundNY AS (\u001b[39;49m\n\u001b[1;32m     22\u001b[0m \u001b[38;5;124;43m    SELECT city, latitude, longitude, numberNegativeNews, numberPositiveNews, month\u001b[39;49m\n\u001b[1;32m     23\u001b[0m \u001b[38;5;124;43m    FROM ny, event e, location l, date d\u001b[39;49m\n\u001b[1;32m     24\u001b[0m \u001b[38;5;124;43m    WHERE e.locationID = l.locationID\u001b[39;49m\n\u001b[1;32m     25\u001b[0m \u001b[38;5;124;43m      AND e.dateID = d.dateID\u001b[39;49m\n\u001b[1;32m     26\u001b[0m \u001b[38;5;124;43m      AND RANGE(\u001b[39;49m\u001b[38;5;124;43m'\u001b[39;49m\u001b[38;5;124;43mhaversine\u001b[39;49m\u001b[38;5;124;43m'\u001b[39;49m\u001b[38;5;124;43m, 100000, [latNY, longNY], [latitude, longitude])\u001b[39;49m\n\u001b[1;32m     27\u001b[0m \u001b[38;5;124;43m),\u001b[39;49m\n\u001b[1;32m     28\u001b[0m \u001b[38;5;124;43mclustered AS (\u001b[39;49m\n\u001b[1;32m     29\u001b[0m \u001b[38;5;124;43m    SELECT *, CLUSTER_KMEANS(3, latitude, longitude, numberNegativeNews) OVER () AS cluster\u001b[39;49m\n\u001b[1;32m     30\u001b[0m \u001b[38;5;124;43m    FROM aroundNY\u001b[39;49m\n\u001b[1;32m     31\u001b[0m \u001b[38;5;124;43m)\u001b[39;49m\n\u001b[1;32m     32\u001b[0m \u001b[38;5;124;43mSELECT latitude, longitude, cluster\u001b[39;49m\n\u001b[1;32m     33\u001b[0m \u001b[38;5;124;43mFROM clustered;\u001b[39;49m\n\u001b[1;32m     34\u001b[0m \u001b[38;5;124;43m\"\"\"\u001b[39;49m\u001b[43m)\u001b[49m\n",
      "File \u001b[0;32m~/code/masters/event_mining/main/duck_solution.py:47\u001b[0m, in \u001b[0;36mEngineDuck.runQuery\u001b[0;34m(self, query)\u001b[0m\n\u001b[1;32m     45\u001b[0m \u001b[38;5;28mprint\u001b[39m(transformedQuery)\n\u001b[1;32m     46\u001b[0m \u001b[38;5;28mprint\u001b[39m()\n\u001b[0;32m---> 47\u001b[0m result \u001b[38;5;241m=\u001b[39m \u001b[38;5;28;43mself\u001b[39;49m\u001b[38;5;241;43m.\u001b[39;49m\u001b[43mcon\u001b[49m\u001b[38;5;241;43m.\u001b[39;49m\u001b[43msql\u001b[49m\u001b[43m(\u001b[49m\u001b[43mquery\u001b[49m\u001b[43m)\u001b[49m\u001b[38;5;241m.\u001b[39marrow()\u001b[38;5;241m.\u001b[39mto_pandas()\n\u001b[1;32m     48\u001b[0m \u001b[38;5;28mprint\u001b[39m(result)\n\u001b[1;32m     49\u001b[0m \u001b[38;5;66;03m# print(\"Shape:\")\u001b[39;00m\n\u001b[1;32m     50\u001b[0m \u001b[38;5;66;03m# print(result.read_next_batch().to_pandas().shape)\u001b[39;00m\n\u001b[1;32m     51\u001b[0m \n\u001b[1;32m     52\u001b[0m \u001b[38;5;66;03m# print(\"For\")\u001b[39;00m\n\u001b[1;32m     53\u001b[0m \u001b[38;5;66;03m# for r in result:\u001b[39;00m\n\u001b[1;32m     54\u001b[0m \u001b[38;5;66;03m#     print(r.read_next_batch().to_pandas().shape)\u001b[39;00m\n",
      "\u001b[0;31mCatalogException\u001b[0m: Catalog Error: cluster_kmeans is not an aggregate function"
     ]
    }
   ],
   "source": [
    "from duck_solution import EngineDuck\n",
    "\n",
    "engine = EngineDuck(host='localhost',port='5432',name='postgres',user='postgres',password='password')\n",
    "engine.registerAllVisualizeFunctions()\n",
    "engine.registerAllMlFunctions()\n",
    "engine.registerAllSimilarityFunctions()\n",
    "\n",
    "engine.runQuery(\"\"\" \n",
    "WITH\n",
    "ny AS ( \n",
    "    SELECT latitude AS latNY, longitude AS longNY\n",
    "    FROM location \n",
    "    WHERE city = 'New York'\n",
    "), \n",
    "cities as (SELECT latitude as latCities, longitude as longCities from location WHERE city != 'New York' LIMIT 10),\n",
    "aroundNY AS ( \n",
    "    SELECT city, latitude, longitude, numberNegativeNews, numberPositiveNews, month\n",
    "    FROM ny, event e, location l, date d\n",
    "    WHERE e.locationID = l.locationID AND e.dateID = d.dateID AND RANGE('haversine', 100000, [latNY, longNY], [latitude, longitude])), cluster AS (SELECT CLUSTER_KMEANS(3, latitude, longitude, numbernegativenews) as clt FROM aroundNY)\n",
    "    SELECT SCATTER(latitude, longitude, CLUSTER_KMEANS(3, latitude, longitude, numbernegativenews)) from aroundNY \n",
    "\"\"\")"
   ]
  },
  {
   "cell_type": "code",
   "execution_count": null,
   "metadata": {},
   "outputs": [
    {
     "name": "stdout",
     "output_type": "stream",
     "text": [
      " \n",
      "WITH\n",
      "ny AS ( \n",
      "    SELECT latitude AS latNY, longitude AS longNY\n",
      "    FROM location \n",
      "    WHERE city = 'New York'\n",
      "), \n",
      "cities as (SELECT latitude as latCities, longitude as longCities from location WHERE city != 'New York' LIMIT 10),\n",
      "aroundNY AS ( \n",
      "    SELECT city, latitude, longitude, numberNegativeNews, numberPositiveNews, month\n",
      "    FROM ny, event e, location l, date d\n",
      "    WHERE e.locationID = l.locationID AND e.dateID = d.dateID AND RANGE('haversine', 100000, [latNY, longNY], [latitude, longitude])), cluster AS (SELECT CLUSTER_KMEANS(3, array_agg(latitude), array_agg(longitude), array_agg(numbernegativenews)) as clt FROM aroundNY)\n",
      "    SELECT COUNT(*) from event \n",
      "\n",
      "\n",
      "(1, 1)\n"
     ]
    },
    {
     "data": {
      "text/plain": [
       "<pyarrow.lib.RecordBatchReader at 0x7ecc806bf390>"
      ]
     },
     "execution_count": 1,
     "metadata": {},
     "output_type": "execute_result"
    }
   ],
   "source": [
    "from duck_solution import EngineDuck\n",
    "\n",
    "engine = EngineDuck(host='localhost',port='5432',name='postgres',user='postgres',password='password')\n",
    "engine.registerAllVisualizeFunctions()\n",
    "engine.registerAllMlFunctions()\n",
    "engine.registerAllSimilarityFunctions()\n",
    "\n",
    "engine.runQuery(\"\"\" \n",
    "WITH\n",
    "ny AS ( \n",
    "    SELECT latitude AS latNY, longitude AS longNY\n",
    "    FROM location \n",
    "    WHERE city = 'New York'\n",
    "), \n",
    "\n",
    "cities as (SELECT latitude as latCities, longitude as longCities from location WHERE city != 'New York' LIMIT 10),\n",
    "aroundNY AS ( \n",
    "    SELECT city, latitude, longitude, numberNegativeNews, numberPositiveNews, month\n",
    "    FROM ny, event e, location l, date d\n",
    "    WHERE e.locationID = l.locationID AND e.dateID = d.dateID AND RANGE('haversine', 100000, [latNY, longNY], [latitude, longitude])), cluster AS (SELECT CLUSTER_KMEANS(3, latitude, longitude, numbernegativenews) as clt FROM aroundNY)\n",
    "    SELECT COUNT(*) from event \n",
    "\"\"\")"
   ]
  },
  {
   "cell_type": "code",
   "execution_count": 1,
   "metadata": {},
   "outputs": [
    {
     "name": "stdout",
     "output_type": "stream",
     "text": [
      " \n",
      "WITH\n",
      "ny AS ( \n",
      "    SELECT latitude AS latNY, longitude AS longNY\n",
      "    FROM location \n",
      "    WHERE city = 'New York'\n",
      "), \n",
      "cities as (SELECT latitude as latCities, longitude as longCities from location WHERE city != 'New York' LIMIT 10),\n",
      "aroundNY AS ( \n",
      "    SELECT city, latitude, longitude, numberNegativeNews, numberPositiveNews, month\n",
      "    FROM ny, event e, location l, date d\n",
      "    WHERE e.locationID = l.locationID AND e.dateID = d.dateID AND RANGE('haversine', 100, [latNY, longNY], [latitude, longitude]) \n",
      ") SELECT array_agg(CLASSIFY_KNN(3, array_agg([latitude, longitude, numbernegativenews]), array_agg(numbernegativenews), array_agg([longitude, latitude, numbernegativenews]))) as clt from aroundNY \n",
      "\n",
      "\n",
      "147\n",
      "[-73.3932, 40.6728, 0.0]\n"
     ]
    },
    {
     "ename": "InvalidInputException",
     "evalue": "Invalid Input Error: Python exception occurred while executing the UDF: TypeError: 'float' object is not subscriptable\n\nAt:\n  /home/felipe/code/masters/event_mining/main/ml.py(85): knn_classifier\n  /home/felipe/code/masters/event_mining/main/duck_solution.py(47): runQuery\n  /tmp/ipykernel_321631/2387622856.py(8): <module>\n  /home/felipe/code/masters/event_mining/venv/lib/python3.12/site-packages/IPython/core/interactiveshell.py(3577): run_code\n  /home/felipe/code/masters/event_mining/venv/lib/python3.12/site-packages/IPython/core/interactiveshell.py(3517): run_ast_nodes\n  /home/felipe/code/masters/event_mining/venv/lib/python3.12/site-packages/IPython/core/interactiveshell.py(3334): run_cell_async\n  /home/felipe/code/masters/event_mining/venv/lib/python3.12/site-packages/IPython/core/async_helpers.py(128): _pseudo_sync_runner\n  /home/felipe/code/masters/event_mining/venv/lib/python3.12/site-packages/IPython/core/interactiveshell.py(3130): _run_cell\n  /home/felipe/code/masters/event_mining/venv/lib/python3.12/site-packages/IPython/core/interactiveshell.py(3075): run_cell\n  /home/felipe/code/masters/event_mining/venv/lib/python3.12/site-packages/ipykernel/zmqshell.py(549): run_cell\n  /home/felipe/code/masters/event_mining/venv/lib/python3.12/site-packages/ipykernel/ipkernel.py(449): do_execute\n  /home/felipe/code/masters/event_mining/venv/lib/python3.12/site-packages/ipykernel/kernelbase.py(778): execute_request\n  /home/felipe/code/masters/event_mining/venv/lib/python3.12/site-packages/ipykernel/ipkernel.py(362): execute_request\n  /home/felipe/code/masters/event_mining/venv/lib/python3.12/site-packages/ipykernel/kernelbase.py(437): dispatch_shell\n  /home/felipe/code/masters/event_mining/venv/lib/python3.12/site-packages/ipykernel/kernelbase.py(534): process_one\n  /home/felipe/code/masters/event_mining/venv/lib/python3.12/site-packages/ipykernel/kernelbase.py(545): dispatch_queue\n  /usr/lib/python3.12/asyncio/events.py(88): _run\n  /usr/lib/python3.12/asyncio/base_events.py(1987): _run_once\n  /usr/lib/python3.12/asyncio/base_events.py(641): run_forever\n  /home/felipe/code/masters/event_mining/venv/lib/python3.12/site-packages/tornado/platform/asyncio.py(205): start\n  /home/felipe/code/masters/event_mining/venv/lib/python3.12/site-packages/ipykernel/kernelapp.py(739): start\n  /home/felipe/code/masters/event_mining/venv/lib/python3.12/site-packages/traitlets/config/application.py(1075): launch_instance\n  /home/felipe/code/masters/event_mining/venv/lib/python3.12/site-packages/ipykernel_launcher.py(18): <module>\n  <frozen runpy>(88): _run_code\n  <frozen runpy>(198): _run_module_as_main\n",
     "output_type": "error",
     "traceback": [
      "\u001b[0;31m---------------------------------------------------------------------------\u001b[0m",
      "\u001b[0;31mInvalidInputException\u001b[0m                     Traceback (most recent call last)",
      "Cell \u001b[0;32mIn[1], line 8\u001b[0m\n\u001b[1;32m      5\u001b[0m engine\u001b[38;5;241m.\u001b[39mregisterAllMlFunctions()\n\u001b[1;32m      6\u001b[0m engine\u001b[38;5;241m.\u001b[39mregisterAllSimilarityFunctions()\n\u001b[0;32m----> 8\u001b[0m \u001b[43mengine\u001b[49m\u001b[38;5;241;43m.\u001b[39;49m\u001b[43mrunQuery\u001b[49m\u001b[43m(\u001b[49m\u001b[38;5;124;43m\"\"\"\u001b[39;49m\u001b[38;5;124;43m \u001b[39;49m\n\u001b[1;32m      9\u001b[0m \u001b[38;5;124;43mWITH\u001b[39;49m\n\u001b[1;32m     10\u001b[0m \u001b[38;5;124;43mny AS ( \u001b[39;49m\n\u001b[1;32m     11\u001b[0m \u001b[38;5;124;43m    SELECT latitude AS latNY, longitude AS longNY\u001b[39;49m\n\u001b[1;32m     12\u001b[0m \u001b[38;5;124;43m    FROM location \u001b[39;49m\n\u001b[1;32m     13\u001b[0m \u001b[38;5;124;43m    WHERE city = \u001b[39;49m\u001b[38;5;124;43m'\u001b[39;49m\u001b[38;5;124;43mNew York\u001b[39;49m\u001b[38;5;124;43m'\u001b[39;49m\n\u001b[1;32m     14\u001b[0m \u001b[38;5;124;43m), \u001b[39;49m\n\u001b[1;32m     15\u001b[0m \u001b[38;5;124;43mcities as (SELECT latitude as latCities, longitude as longCities from location WHERE city != \u001b[39;49m\u001b[38;5;124;43m'\u001b[39;49m\u001b[38;5;124;43mNew York\u001b[39;49m\u001b[38;5;124;43m'\u001b[39;49m\u001b[38;5;124;43m LIMIT 10),\u001b[39;49m\n\u001b[1;32m     16\u001b[0m \u001b[38;5;124;43maroundNY AS ( \u001b[39;49m\n\u001b[1;32m     17\u001b[0m \u001b[38;5;124;43m    SELECT city, latitude, longitude, numberNegativeNews, numberPositiveNews, month\u001b[39;49m\n\u001b[1;32m     18\u001b[0m \u001b[38;5;124;43m    FROM ny, event e, location l, date d\u001b[39;49m\n\u001b[1;32m     19\u001b[0m \u001b[38;5;124;43m    WHERE e.locationID = l.locationID AND e.dateID = d.dateID AND RANGE(\u001b[39;49m\u001b[38;5;124;43m'\u001b[39;49m\u001b[38;5;124;43mhaversine\u001b[39;49m\u001b[38;5;124;43m'\u001b[39;49m\u001b[38;5;124;43m, 100, [latNY, longNY], [latitude, longitude]) \u001b[39;49m\n\u001b[1;32m     20\u001b[0m \u001b[38;5;124;43m) SELECT array_agg(CLASSIFY_KNN(3, [latitude, longitude, numbernegativenews], numbernegativenews, [longitude, latitude, numbernegativenews])) as clt from aroundNY \u001b[39;49m\n\u001b[1;32m     21\u001b[0m \u001b[38;5;124;43m\"\"\"\u001b[39;49m\u001b[43m)\u001b[49m\n",
      "File \u001b[0;32m~/code/masters/event_mining/main/duck_solution.py:47\u001b[0m, in \u001b[0;36mEngineDuck.runQuery\u001b[0;34m(self, query)\u001b[0m\n\u001b[1;32m     45\u001b[0m \u001b[38;5;28mprint\u001b[39m(transformedQuery)\n\u001b[1;32m     46\u001b[0m \u001b[38;5;28mprint\u001b[39m()\n\u001b[0;32m---> 47\u001b[0m result \u001b[38;5;241m=\u001b[39m \u001b[38;5;28;43mself\u001b[39;49m\u001b[38;5;241;43m.\u001b[39;49m\u001b[43mcon\u001b[49m\u001b[38;5;241;43m.\u001b[39;49m\u001b[43mexecute\u001b[49m\u001b[43m(\u001b[49m\u001b[43mquery\u001b[49m\u001b[43m)\u001b[49m\u001b[38;5;241m.\u001b[39mfetch_df()\n\u001b[1;32m     48\u001b[0m \u001b[38;5;28;01mreturn\u001b[39;00m result\n",
      "\u001b[0;31mInvalidInputException\u001b[0m: Invalid Input Error: Python exception occurred while executing the UDF: TypeError: 'float' object is not subscriptable\n\nAt:\n  /home/felipe/code/masters/event_mining/main/ml.py(85): knn_classifier\n  /home/felipe/code/masters/event_mining/main/duck_solution.py(47): runQuery\n  /tmp/ipykernel_321631/2387622856.py(8): <module>\n  /home/felipe/code/masters/event_mining/venv/lib/python3.12/site-packages/IPython/core/interactiveshell.py(3577): run_code\n  /home/felipe/code/masters/event_mining/venv/lib/python3.12/site-packages/IPython/core/interactiveshell.py(3517): run_ast_nodes\n  /home/felipe/code/masters/event_mining/venv/lib/python3.12/site-packages/IPython/core/interactiveshell.py(3334): run_cell_async\n  /home/felipe/code/masters/event_mining/venv/lib/python3.12/site-packages/IPython/core/async_helpers.py(128): _pseudo_sync_runner\n  /home/felipe/code/masters/event_mining/venv/lib/python3.12/site-packages/IPython/core/interactiveshell.py(3130): _run_cell\n  /home/felipe/code/masters/event_mining/venv/lib/python3.12/site-packages/IPython/core/interactiveshell.py(3075): run_cell\n  /home/felipe/code/masters/event_mining/venv/lib/python3.12/site-packages/ipykernel/zmqshell.py(549): run_cell\n  /home/felipe/code/masters/event_mining/venv/lib/python3.12/site-packages/ipykernel/ipkernel.py(449): do_execute\n  /home/felipe/code/masters/event_mining/venv/lib/python3.12/site-packages/ipykernel/kernelbase.py(778): execute_request\n  /home/felipe/code/masters/event_mining/venv/lib/python3.12/site-packages/ipykernel/ipkernel.py(362): execute_request\n  /home/felipe/code/masters/event_mining/venv/lib/python3.12/site-packages/ipykernel/kernelbase.py(437): dispatch_shell\n  /home/felipe/code/masters/event_mining/venv/lib/python3.12/site-packages/ipykernel/kernelbase.py(534): process_one\n  /home/felipe/code/masters/event_mining/venv/lib/python3.12/site-packages/ipykernel/kernelbase.py(545): dispatch_queue\n  /usr/lib/python3.12/asyncio/events.py(88): _run\n  /usr/lib/python3.12/asyncio/base_events.py(1987): _run_once\n  /usr/lib/python3.12/asyncio/base_events.py(641): run_forever\n  /home/felipe/code/masters/event_mining/venv/lib/python3.12/site-packages/tornado/platform/asyncio.py(205): start\n  /home/felipe/code/masters/event_mining/venv/lib/python3.12/site-packages/ipykernel/kernelapp.py(739): start\n  /home/felipe/code/masters/event_mining/venv/lib/python3.12/site-packages/traitlets/config/application.py(1075): launch_instance\n  /home/felipe/code/masters/event_mining/venv/lib/python3.12/site-packages/ipykernel_launcher.py(18): <module>\n  <frozen runpy>(88): _run_code\n  <frozen runpy>(198): _run_module_as_main\n"
     ]
    }
   ],
   "source": [
    "from duck_solution import EngineDuck\n",
    "\n",
    "engine = EngineDuck(host='localhost',port='5432',name='postgres',user='postgres',password='password')\n",
    "engine.registerAllVisualizeFunctions()\n",
    "engine.registerAllMlFunctions()\n",
    "engine.registerAllSimilarityFunctions()\n",
    "\n",
    "engine.runQuery(\"\"\" \n",
    "WITH\n",
    "ny AS ( \n",
    "    SELECT latitude AS latNY, longitude AS longNY\n",
    "    FROM location \n",
    "    WHERE city = 'New York'\n",
    "), \n",
    "cities as (SELECT latitude as latCities, longitude as longCities from location WHERE city != 'New York' LIMIT 10),\n",
    "aroundNY AS ( \n",
    "    SELECT city, latitude, longitude, numberNegativeNews, numberPositiveNews, month\n",
    "    FROM ny, event e, location l, date d\n",
    "    WHERE e.locationID = l.locationID AND e.dateID = d.dateID AND RANGE('haversine', 100, [latNY, longNY], [latitude, longitude]) \n",
    ") SELECT array_agg(CLASSIFY_KNN(3, [latitude, longitude, numbernegativenews], numbernegativenews, [longitude, latitude, numbernegativenews])) as clt from aroundNY \n",
    "\"\"\")"
   ]
  },
  {
   "cell_type": "markdown",
   "metadata": {},
   "source": [
    "aroundNY AS ( \n",
    "    SELECT city, latitude, longitude, numberNegativeNews, numberPositiveNews, month\n",
    "    FROM ny, event e, location l, date d \n",
    "    WHERE e.locationID = l.locationID AND e.dateID = d.dateID AND\n",
    "        RANGE(LOCATION, 150, (latNY, longNY), (latitude, longitude)) \n",
    ") "
   ]
  },
  {
   "cell_type": "code",
   "execution_count": null,
   "metadata": {},
   "outputs": [
    {
     "name": "stdout",
     "output_type": "stream",
     "text": [
      "1\n",
      "[2, 3]\n"
     ]
    }
   ],
   "source": [
    "def teste(*args):\n",
    "    print(args[0])\n",
    "    teste = [x for x in args[1:]]\n",
    "    print(teste)\n",
    "teste(1,2,3)"
   ]
  }
 ],
 "metadata": {
  "kernelspec": {
   "display_name": "venv",
   "language": "python",
   "name": "python3"
  },
  "language_info": {
   "codemirror_mode": {
    "name": "ipython",
    "version": 3
   },
   "file_extension": ".py",
   "mimetype": "text/x-python",
   "name": "python",
   "nbconvert_exporter": "python",
   "pygments_lexer": "ipython3",
   "version": "3.12.3"
  }
 },
 "nbformat": 4,
 "nbformat_minor": 2
}
